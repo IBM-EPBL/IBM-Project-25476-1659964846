{
 "cells": [
  {
   "cell_type": "markdown",
   "metadata": {},
   "source": [
    "#### Name: Raghavi Preeti A J\n",
    "#### Roll No: 917719C075"
   ]
  },
  {
   "cell_type": "markdown",
   "metadata": {},
   "source": [
    "#### 1. Loading Dataset into tool"
   ]
  },
  {
   "cell_type": "code",
   "execution_count": 7,
   "metadata": {},
   "outputs": [],
   "source": [
    "import pandas as pd \n",
    "import numpy as np\n",
    "import matplotlib.pyplot as plt\n",
    "import seaborn as sns\n",
    "import warnings \n",
    "warnings.filterwarnings('ignore')"
   ]
  },
  {
   "cell_type": "code",
   "execution_count": 8,
   "metadata": {},
   "outputs": [],
   "source": [
    "data = pd.read_csv(\"abalone.csv\")"
   ]
  },
  {
   "cell_type": "markdown",
   "metadata": {},
   "source": [
    "#### 2.Performing Visualization\n",
    "\n",
    "#### Univariate Analysis"
   ]
  },
  {
   "cell_type": "code",
   "execution_count": 9,
   "metadata": {},
   "outputs": [
    {
     "data": {
      "text/html": [
       "<div>\n",
       "<style scoped>\n",
       "    .dataframe tbody tr th:only-of-type {\n",
       "        vertical-align: middle;\n",
       "    }\n",
       "\n",
       "    .dataframe tbody tr th {\n",
       "        vertical-align: top;\n",
       "    }\n",
       "\n",
       "    .dataframe thead th {\n",
       "        text-align: right;\n",
       "    }\n",
       "</style>\n",
       "<table border=\"1\" class=\"dataframe\">\n",
       "  <thead>\n",
       "    <tr style=\"text-align: right;\">\n",
       "      <th></th>\n",
       "      <th>Sex</th>\n",
       "      <th>Length</th>\n",
       "      <th>Diameter</th>\n",
       "      <th>Height</th>\n",
       "      <th>Whole weight</th>\n",
       "      <th>Shucked weight</th>\n",
       "      <th>Viscera weight</th>\n",
       "      <th>Shell weight</th>\n",
       "      <th>Rings</th>\n",
       "    </tr>\n",
       "  </thead>\n",
       "  <tbody>\n",
       "    <tr>\n",
       "      <th>0</th>\n",
       "      <td>M</td>\n",
       "      <td>0.455</td>\n",
       "      <td>0.365</td>\n",
       "      <td>0.095</td>\n",
       "      <td>0.5140</td>\n",
       "      <td>0.2245</td>\n",
       "      <td>0.1010</td>\n",
       "      <td>0.150</td>\n",
       "      <td>15</td>\n",
       "    </tr>\n",
       "    <tr>\n",
       "      <th>1</th>\n",
       "      <td>M</td>\n",
       "      <td>0.350</td>\n",
       "      <td>0.265</td>\n",
       "      <td>0.090</td>\n",
       "      <td>0.2255</td>\n",
       "      <td>0.0995</td>\n",
       "      <td>0.0485</td>\n",
       "      <td>0.070</td>\n",
       "      <td>7</td>\n",
       "    </tr>\n",
       "    <tr>\n",
       "      <th>2</th>\n",
       "      <td>F</td>\n",
       "      <td>0.530</td>\n",
       "      <td>0.420</td>\n",
       "      <td>0.135</td>\n",
       "      <td>0.6770</td>\n",
       "      <td>0.2565</td>\n",
       "      <td>0.1415</td>\n",
       "      <td>0.210</td>\n",
       "      <td>9</td>\n",
       "    </tr>\n",
       "    <tr>\n",
       "      <th>3</th>\n",
       "      <td>M</td>\n",
       "      <td>0.440</td>\n",
       "      <td>0.365</td>\n",
       "      <td>0.125</td>\n",
       "      <td>0.5160</td>\n",
       "      <td>0.2155</td>\n",
       "      <td>0.1140</td>\n",
       "      <td>0.155</td>\n",
       "      <td>10</td>\n",
       "    </tr>\n",
       "    <tr>\n",
       "      <th>4</th>\n",
       "      <td>I</td>\n",
       "      <td>0.330</td>\n",
       "      <td>0.255</td>\n",
       "      <td>0.080</td>\n",
       "      <td>0.2050</td>\n",
       "      <td>0.0895</td>\n",
       "      <td>0.0395</td>\n",
       "      <td>0.055</td>\n",
       "      <td>7</td>\n",
       "    </tr>\n",
       "  </tbody>\n",
       "</table>\n",
       "</div>"
      ],
      "text/plain": [
       "  Sex  Length  Diameter  Height  Whole weight  Shucked weight  Viscera weight  \\\n",
       "0   M   0.455     0.365   0.095        0.5140          0.2245          0.1010   \n",
       "1   M   0.350     0.265   0.090        0.2255          0.0995          0.0485   \n",
       "2   F   0.530     0.420   0.135        0.6770          0.2565          0.1415   \n",
       "3   M   0.440     0.365   0.125        0.5160          0.2155          0.1140   \n",
       "4   I   0.330     0.255   0.080        0.2050          0.0895          0.0395   \n",
       "\n",
       "   Shell weight  Rings  \n",
       "0         0.150     15  \n",
       "1         0.070      7  \n",
       "2         0.210      9  \n",
       "3         0.155     10  \n",
       "4         0.055      7  "
      ]
     },
     "execution_count": 9,
     "metadata": {},
     "output_type": "execute_result"
    }
   ],
   "source": [
    "data.head()"
   ]
  },
  {
   "cell_type": "code",
   "execution_count": 10,
   "metadata": {},
   "outputs": [
    {
     "data": {
      "text/plain": [
       "<AxesSubplot:xlabel='Diameter'>"
      ]
     },
     "execution_count": 10,
     "metadata": {},
     "output_type": "execute_result"
    },
    {
     "data": {
      "image/png": "[encoded data removed]",
      "text/plain": [
       "<Figure size 432x288 with 1 Axes>"
      ]
     },
     "metadata": {
      "needs_background": "light"
     },
     "output_type": "display_data"
    }
   ],
   "source": [
    "sns.boxplot(data['Diameter'])"
   ]
  },
  {
   "cell_type": "code",
   "execution_count": 11,
   "metadata": {},
   "outputs": [
    {
     "data": {
      "text/plain": [
       "(array([  13.,   66.,  180.,  344.,  513.,  812., 1017.,  934.,  275.,\n",
       "          23.]),\n",
       " array([0.055 , 0.1145, 0.174 , 0.2335, 0.293 , 0.3525, 0.412 , 0.4715,\n",
       "        0.531 , 0.5905, 0.65  ]),\n",
       " <BarContainer object of 10 artists>)"
      ]
     },
     "execution_count": 11,
     "metadata": {},
     "output_type": "execute_result"
    },
    {
     "data": {
      "image/png": "[encoded data removed]",
      "text/plain": [
       "<Figure size 432x288 with 1 Axes>"
      ]
     },
     "metadata": {
      "needs_background": "light"
     },
     "output_type": "display_data"
    }
   ],
   "source": [
    "plt.hist(data['Diameter'])"
   ]
  },
  {
   "cell_type": "code",
   "execution_count": 12,
   "metadata": {},
   "outputs": [
    {
     "data": {
      "text/plain": [
       "[<matplotlib.lines.Line2D at 0x1ad351a8af0>]"
      ]
     },
     "execution_count": 12,
     "metadata": {},
     "output_type": "execute_result"
    },
    {
     "data": {
      "image/png": "[encoded data removed]",
      "text/plain": [
       "<Figure size 432x288 with 1 Axes>"
      ]
     },
     "metadata": {
      "needs_background": "light"
     },
     "output_type": "display_data"
    }
   ],
   "source": [
    "plt.plot(data['Diameter'].head(10))"
   ]
  },
  {
   "cell_type": "code",
   "execution_count": 13,
   "metadata": {},
   "outputs": [
    {
     "data": {
      "text/plain": [
       "([<matplotlib.patches.Wedge at 0x1ad35205820>,\n",
       "  <matplotlib.patches.Wedge at 0x1ad35205f10>,\n",
       "  <matplotlib.patches.Wedge at 0x1ad352145e0>,\n",
       "  <matplotlib.patches.Wedge at 0x1ad35214c70>,\n",
       "  <matplotlib.patches.Wedge at 0x1ad35221370>],\n",
       " [Text(0.8507215626110558, 0.6973326486753676, ''),\n",
       "  Text(-0.32611344931648134, 1.0505474849691026, ''),\n",
       "  Text(-1.0998053664078908, -0.02069193128747144, ''),\n",
       "  Text(-0.08269436219656089, -1.096887251480709, ''),\n",
       "  Text(0.9758446362287218, -0.5076684409569241, '')],\n",
       " [Text(0.464029943242394, 0.3803632629138369, '21.856'),\n",
       "  Text(-0.17788006326353525, 0.5730259008922377, '15.868'),\n",
       "  Text(-0.5998938362224858, -0.011286507974984419, '25.150'),\n",
       "  Text(-0.045106015743578656, -0.5983021371712958, '21.856'),\n",
       "  Text(0.5322788924883937, -0.2769100587037768, '15.269')])"
      ]
     },
     "execution_count": 13,
     "metadata": {},
     "output_type": "execute_result"
    },
    {
     "data": {
      "image/png": "[encoded data removed]",
      "text/plain": [
       "<Figure size 432x288 with 1 Axes>"
      ]
     },
     "metadata": {},
     "output_type": "display_data"
    }
   ],
   "source": [
    "plt.pie(data['Diameter'].head(),autopct='%.3f')"
   ]
  },
  {
   "cell_type": "code",
   "execution_count": 14,
   "metadata": {},
   "outputs": [
    {
     "data": {
      "text/plain": [
       "<AxesSubplot:xlabel='Diameter', ylabel='Density'>"
      ]
     },
     "execution_count": 14,
     "metadata": {},
     "output_type": "execute_result"
    },
    {
     "data": {
      "image/png": "[encoded data removed]",
      "text/plain": [
       "<Figure size 432x288 with 1 Axes>"
      ]
     },
     "metadata": {
      "needs_background": "light"
     },
     "output_type": "display_data"
    }
   ],
   "source": [
    "sns.distplot(data['Diameter'].head(300))"
   ]
  },
  {
   "cell_type": "code",
   "execution_count": 15,
   "metadata": {},
   "outputs": [
    {
     "data": {
      "text/plain": [
       "<matplotlib.collections.PathCollection at 0x1ad3534e760>"
      ]
     },
     "execution_count": 15,
     "metadata": {},
     "output_type": "execute_result"
    },
    {
     "data": {
      "image/png": "[encoded data removed]",
      "text/plain": [
       "<Figure size 432x288 with 1 Axes>"
      ]
     },
     "metadata": {
      "needs_background": "light"
     },
     "output_type": "display_data"
    }
   ],
   "source": [
    "plt.scatter(data['Diameter'].head(400),data['Length'].head(400))"
   ]
  },
  {
   "cell_type": "code",
   "execution_count": 16,
   "metadata": {},
   "outputs": [
    {
     "data": {
      "text/plain": [
       "Text(0, 0.5, 'Rings')"
      ]
     },
     "execution_count": 16,
     "metadata": {},
     "output_type": "execute_result"
    },
    {
     "data": {
      "image/png": "[encoded data removed]",
      "text/plain": [
       "<Figure size 432x288 with 1 Axes>"
      ]
     },
     "metadata": {
      "needs_background": "light"
     },
     "output_type": "display_data"
    }
   ],
   "source": [
    "plt.bar(data['Sex'].head(20),data['Rings'].head(20))\n",
    "plt.title('Bar plot')\n",
    "plt.xlabel('Diameter')\n",
    "plt.ylabel('Rings')"
   ]
  },
  {
   "cell_type": "code",
   "execution_count": 17,
   "metadata": {},
   "outputs": [
    {
     "data": {
      "text/plain": [
       "<AxesSubplot:xlabel='Sex', ylabel='Rings'>"
      ]
     },
     "execution_count": 17,
     "metadata": {},
     "output_type": "execute_result"
    },
    {
     "data": {
      "image/png": "[encoded data removed]",
      "text/plain": [
       "<Figure size 432x288 with 1 Axes>"
      ]
     },
     "metadata": {
      "needs_background": "light"
     },
     "output_type": "display_data"
    }
   ],
   "source": [
    "sns.barplot(data['Sex'], data['Rings'])"
   ]
  },
  {
   "cell_type": "code",
   "execution_count": 18,
   "metadata": {},
   "outputs": [
    {
     "data": {
      "text/plain": [
       "<seaborn.axisgrid.JointGrid at 0x1ad35486d00>"
      ]
     },
     "execution_count": 18,
     "metadata": {},
     "output_type": "execute_result"
    },
    {
     "data": {
      "image/png": "[encoded data removed]",
      "text/plain": [
       "<Figure size 432x432 with 3 Axes>"
      ]
     },
     "metadata": {
      "needs_background": "light"
     },
     "output_type": "display_data"
    }
   ],
   "source": [
    "sns.jointplot(data['Diameter'].head(50),data['Rings'].head(100))"
   ]
  },
  {
   "cell_type": "code",
   "execution_count": 19,
   "metadata": {},
   "outputs": [
    {
     "data": {
      "text/plain": [
       "<AxesSubplot:xlabel='Diameter', ylabel='Rings'>"
      ]
     },
     "execution_count": 19,
     "metadata": {},
     "output_type": "execute_result"
    },
    {
     "data": {
      "image/png": "[encoded data removed]",
      "text/plain": [
       "<Figure size 432x288 with 1 Axes>"
      ]
     },
     "metadata": {
      "needs_background": "light"
     },
     "output_type": "display_data"
    }
   ],
   "source": [
    "sns.barplot('Diameter','Rings',hue='Sex',data=data.head())"
   ]
  },
  {
   "cell_type": "code",
   "execution_count": 20,
   "metadata": {},
   "outputs": [
    {
     "data": {
      "text/plain": [
       "<AxesSubplot:xlabel='Diameter', ylabel='Rings'>"
      ]
     },
     "execution_count": 20,
     "metadata": {},
     "output_type": "execute_result"
    },
    {
     "data": {
      "image/png": "[encoded data removed]",
      "text/plain": [
       "<Figure size 432x288 with 1 Axes>"
      ]
     },
     "metadata": {
      "needs_background": "light"
     },
     "output_type": "display_data"
    }
   ],
   "source": [
    "sns.lineplot(data['Diameter'].head(),data['Rings'].head())"
   ]
  },
  {
   "cell_type": "code",
   "execution_count": 22,
   "metadata": {},
   "outputs": [
    {
     "data": {
      "text/plain": [
       "<AxesSubplot:xlabel='Sex', ylabel='Diameter'>"
      ]
     },
     "execution_count": 22,
     "metadata": {},
     "output_type": "execute_result"
    },
    {
     "data": {
      "image/png": "[encoded data removed]",
      "text/plain": [
       "<Figure size 432x288 with 1 Axes>"
      ]
     },
     "metadata": {
      "needs_background": "light"
     },
     "output_type": "display_data"
    }
   ],
   "source": [
    "sns.boxplot(data['Sex'].head(10),data['Diameter'].head(10),data['Rings'].head(10))"
   ]
  },
  {
   "cell_type": "code",
   "execution_count": 23,
   "metadata": {
    "scrolled": true
   },
   "outputs": [
    {
     "data": {
      "text/plain": [
       "<AxesSubplot:>"
      ]
     },
     "execution_count": 23,
     "metadata": {},
     "output_type": "execute_result"
    },
    {
     "data": {
      "image/png": "[encoded data removed]",
      "text/plain": [
       "<Figure size 576x360 with 2 Axes>"
      ]
     },
     "metadata": {
      "needs_background": "light"
     },
     "output_type": "display_data"
    }
   ],
   "source": [
    "fig=plt.figure(figsize=(8,5))\n",
    "sns.heatmap(data.head().corr(),annot=True)"
   ]
  },
  {
   "cell_type": "code",
   "execution_count": 24,
   "metadata": {},
   "outputs": [
    {
     "data": {
      "text/plain": [
       "<seaborn.axisgrid.PairGrid at 0x1ad37857760>"
      ]
     },
     "execution_count": 24,
     "metadata": {},
     "output_type": "execute_result"
    },
    {
     "data": {
      "image/png": "[encoded data removed]",
      "text/plain": [
       "<Figure size 1324.75x1260 with 56 Axes>"
      ]
     },
     "metadata": {
      "needs_background": "light"
     },
     "output_type": "display_data"
    }
   ],
   "source": [
    "sns.pairplot(data.head(),hue='Height')"
   ]
  },
  {
   "cell_type": "code",
   "execution_count": 25,
   "metadata": {},
   "outputs": [
    {
     "data": {
      "text/plain": [
       "<seaborn.axisgrid.PairGrid at 0x1ad3a0cc790>"
      ]
     },
     "execution_count": 25,
     "metadata": {},
     "output_type": "execute_result"
    },
    {
     "data": {
      "image/png": "[encoded data removed]",
      "text/plain": [
       "<Figure size 1440x1440 with 72 Axes>"
      ]
     },
     "metadata": {
      "needs_background": "light"
     },
     "output_type": "display_data"
    }
   ],
   "source": [
    "sns.pairplot(data.head())"
   ]
  },
  {
   "cell_type": "markdown",
   "metadata": {},
   "source": [
    "#### 3.Perform Descriptive Statistics on the dataset"
   ]
  },
  {
   "cell_type": "code",
   "execution_count": 26,
   "metadata": {},
   "outputs": [
    {
     "data": {
      "text/html": [
       "<div>\n",
       "<style scoped>\n",
       "    .dataframe tbody tr th:only-of-type {\n",
       "        vertical-align: middle;\n",
       "    }\n",
       "\n",
       "    .dataframe tbody tr th {\n",
       "        vertical-align: top;\n",
       "    }\n",
       "\n",
       "    .dataframe thead th {\n",
       "        text-align: right;\n",
       "    }\n",
       "</style>\n",
       "<table border=\"1\" class=\"dataframe\">\n",
       "  <thead>\n",
       "    <tr style=\"text-align: right;\">\n",
       "      <th></th>\n",
       "      <th>Sex</th>\n",
       "      <th>Length</th>\n",
       "      <th>Diameter</th>\n",
       "      <th>Height</th>\n",
       "      <th>Whole weight</th>\n",
       "      <th>Shucked weight</th>\n",
       "      <th>Viscera weight</th>\n",
       "      <th>Shell weight</th>\n",
       "      <th>Rings</th>\n",
       "    </tr>\n",
       "  </thead>\n",
       "  <tbody>\n",
       "    <tr>\n",
       "      <th>0</th>\n",
       "      <td>M</td>\n",
       "      <td>0.455</td>\n",
       "      <td>0.365</td>\n",
       "      <td>0.095</td>\n",
       "      <td>0.5140</td>\n",
       "      <td>0.2245</td>\n",
       "      <td>0.1010</td>\n",
       "      <td>0.150</td>\n",
       "      <td>15</td>\n",
       "    </tr>\n",
       "    <tr>\n",
       "      <th>1</th>\n",
       "      <td>M</td>\n",
       "      <td>0.350</td>\n",
       "      <td>0.265</td>\n",
       "      <td>0.090</td>\n",
       "      <td>0.2255</td>\n",
       "      <td>0.0995</td>\n",
       "      <td>0.0485</td>\n",
       "      <td>0.070</td>\n",
       "      <td>7</td>\n",
       "    </tr>\n",
       "    <tr>\n",
       "      <th>2</th>\n",
       "      <td>F</td>\n",
       "      <td>0.530</td>\n",
       "      <td>0.420</td>\n",
       "      <td>0.135</td>\n",
       "      <td>0.6770</td>\n",
       "      <td>0.2565</td>\n",
       "      <td>0.1415</td>\n",
       "      <td>0.210</td>\n",
       "      <td>9</td>\n",
       "    </tr>\n",
       "    <tr>\n",
       "      <th>3</th>\n",
       "      <td>M</td>\n",
       "      <td>0.440</td>\n",
       "      <td>0.365</td>\n",
       "      <td>0.125</td>\n",
       "      <td>0.5160</td>\n",
       "      <td>0.2155</td>\n",
       "      <td>0.1140</td>\n",
       "      <td>0.155</td>\n",
       "      <td>10</td>\n",
       "    </tr>\n",
       "    <tr>\n",
       "      <th>4</th>\n",
       "      <td>I</td>\n",
       "      <td>0.330</td>\n",
       "      <td>0.255</td>\n",
       "      <td>0.080</td>\n",
       "      <td>0.2050</td>\n",
       "      <td>0.0895</td>\n",
       "      <td>0.0395</td>\n",
       "      <td>0.055</td>\n",
       "      <td>7</td>\n",
       "    </tr>\n",
       "  </tbody>\n",
       "</table>\n",
       "</div>"
      ],
      "text/plain": [
       "  Sex  Length  Diameter  Height  Whole weight  Shucked weight  Viscera weight  \\\n",
       "0   M   0.455     0.365   0.095        0.5140          0.2245          0.1010   \n",
       "1   M   0.350     0.265   0.090        0.2255          0.0995          0.0485   \n",
       "2   F   0.530     0.420   0.135        0.6770          0.2565          0.1415   \n",
       "3   M   0.440     0.365   0.125        0.5160          0.2155          0.1140   \n",
       "4   I   0.330     0.255   0.080        0.2050          0.0895          0.0395   \n",
       "\n",
       "   Shell weight  Rings  \n",
       "0         0.150     15  \n",
       "1         0.070      7  \n",
       "2         0.210      9  \n",
       "3         0.155     10  \n",
       "4         0.055      7  "
      ]
     },
     "execution_count": 26,
     "metadata": {},
     "output_type": "execute_result"
    }
   ],
   "source": [
    "data.head()"
   ]
  },
  {
   "cell_type": "code",
   "execution_count": 27,
   "metadata": {},
   "outputs": [
    {
     "data": {
      "text/html": [
       "<div>\n",
       "<style scoped>\n",
       "    .dataframe tbody tr th:only-of-type {\n",
       "        vertical-align: middle;\n",
       "    }\n",
       "\n",
       "    .dataframe tbody tr th {\n",
       "        vertical-align: top;\n",
       "    }\n",
       "\n",
       "    .dataframe thead th {\n",
       "        text-align: right;\n",
       "    }\n",
       "</style>\n",
       "<table border=\"1\" class=\"dataframe\">\n",
       "  <thead>\n",
       "    <tr style=\"text-align: right;\">\n",
       "      <th></th>\n",
       "      <th>Sex</th>\n",
       "      <th>Length</th>\n",
       "      <th>Diameter</th>\n",
       "      <th>Height</th>\n",
       "      <th>Whole weight</th>\n",
       "      <th>Shucked weight</th>\n",
       "      <th>Viscera weight</th>\n",
       "      <th>Shell weight</th>\n",
       "      <th>Rings</th>\n",
       "    </tr>\n",
       "  </thead>\n",
       "  <tbody>\n",
       "    <tr>\n",
       "      <th>4172</th>\n",
       "      <td>F</td>\n",
       "      <td>0.565</td>\n",
       "      <td>0.450</td>\n",
       "      <td>0.165</td>\n",
       "      <td>0.8870</td>\n",
       "      <td>0.3700</td>\n",
       "      <td>0.2390</td>\n",
       "      <td>0.2490</td>\n",
       "      <td>11</td>\n",
       "    </tr>\n",
       "    <tr>\n",
       "      <th>4173</th>\n",
       "      <td>M</td>\n",
       "      <td>0.590</td>\n",
       "      <td>0.440</td>\n",
       "      <td>0.135</td>\n",
       "      <td>0.9660</td>\n",
       "      <td>0.4390</td>\n",
       "      <td>0.2145</td>\n",
       "      <td>0.2605</td>\n",
       "      <td>10</td>\n",
       "    </tr>\n",
       "    <tr>\n",
       "      <th>4174</th>\n",
       "      <td>M</td>\n",
       "      <td>0.600</td>\n",
       "      <td>0.475</td>\n",
       "      <td>0.205</td>\n",
       "      <td>1.1760</td>\n",
       "      <td>0.5255</td>\n",
       "      <td>0.2875</td>\n",
       "      <td>0.3080</td>\n",
       "      <td>9</td>\n",
       "    </tr>\n",
       "    <tr>\n",
       "      <th>4175</th>\n",
       "      <td>F</td>\n",
       "      <td>0.625</td>\n",
       "      <td>0.485</td>\n",
       "      <td>0.150</td>\n",
       "      <td>1.0945</td>\n",
       "      <td>0.5310</td>\n",
       "      <td>0.2610</td>\n",
       "      <td>0.2960</td>\n",
       "      <td>10</td>\n",
       "    </tr>\n",
       "    <tr>\n",
       "      <th>4176</th>\n",
       "      <td>M</td>\n",
       "      <td>0.710</td>\n",
       "      <td>0.555</td>\n",
       "      <td>0.195</td>\n",
       "      <td>1.9485</td>\n",
       "      <td>0.9455</td>\n",
       "      <td>0.3765</td>\n",
       "      <td>0.4950</td>\n",
       "      <td>12</td>\n",
       "    </tr>\n",
       "  </tbody>\n",
       "</table>\n",
       "</div>"
      ],
      "text/plain": [
       "     Sex  Length  Diameter  Height  Whole weight  Shucked weight  \\\n",
       "4172   F   0.565     0.450   0.165        0.8870          0.3700   \n",
       "4173   M   0.590     0.440   0.135        0.9660          0.4390   \n",
       "4174   M   0.600     0.475   0.205        1.1760          0.5255   \n",
       "4175   F   0.625     0.485   0.150        1.0945          0.5310   \n",
       "4176   M   0.710     0.555   0.195        1.9485          0.9455   \n",
       "\n",
       "      Viscera weight  Shell weight  Rings  \n",
       "4172          0.2390        0.2490     11  \n",
       "4173          0.2145        0.2605     10  \n",
       "4174          0.2875        0.3080      9  \n",
       "4175          0.2610        0.2960     10  \n",
       "4176          0.3765        0.4950     12  "
      ]
     },
     "execution_count": 27,
     "metadata": {},
     "output_type": "execute_result"
    }
   ],
   "source": [
    "data.tail()"
   ]
  },
  {
   "cell_type": "code",
   "execution_count": 28,
   "metadata": {},
   "outputs": [
    {
     "name": "stdout",
     "output_type": "stream",
     "text": [
      "<class 'pandas.core.frame.DataFrame'>\n",
      "RangeIndex: 4177 entries, 0 to 4176\n",
      "Data columns (total 9 columns):\n",
      " #   Column          Non-Null Count  Dtype  \n",
      "---  ------          --------------  -----  \n",
      " 0   Sex             4177 non-null   object \n",
      " 1   Length          4177 non-null   float64\n",
      " 2   Diameter        4177 non-null   float64\n",
      " 3   Height          4177 non-null   float64\n",
      " 4   Whole weight    4177 non-null   float64\n",
      " 5   Shucked weight  4177 non-null   float64\n",
      " 6   Viscera weight  4177 non-null   float64\n",
      " 7   Shell weight    4177 non-null   float64\n",
      " 8   Rings           4177 non-null   int64  \n",
      "dtypes: float64(7), int64(1), object(1)\n",
      "memory usage: 293.8+ KB\n"
     ]
    }
   ],
   "source": [
    "data.info()"
   ]
  },
  {
   "cell_type": "code",
   "execution_count": 29,
   "metadata": {},
   "outputs": [
    {
     "data": {
      "text/html": [
       "<div>\n",
       "<style scoped>\n",
       "    .dataframe tbody tr th:only-of-type {\n",
       "        vertical-align: middle;\n",
       "    }\n",
       "\n",
       "    .dataframe tbody tr th {\n",
       "        vertical-align: top;\n",
       "    }\n",
       "\n",
       "    .dataframe thead th {\n",
       "        text-align: right;\n",
       "    }\n",
       "</style>\n",
       "<table border=\"1\" class=\"dataframe\">\n",
       "  <thead>\n",
       "    <tr style=\"text-align: right;\">\n",
       "      <th></th>\n",
       "      <th>Length</th>\n",
       "      <th>Diameter</th>\n",
       "      <th>Height</th>\n",
       "      <th>Whole weight</th>\n",
       "      <th>Shucked weight</th>\n",
       "      <th>Viscera weight</th>\n",
       "      <th>Shell weight</th>\n",
       "      <th>Rings</th>\n",
       "    </tr>\n",
       "  </thead>\n",
       "  <tbody>\n",
       "    <tr>\n",
       "      <th>count</th>\n",
       "      <td>4177.000000</td>\n",
       "      <td>4177.000000</td>\n",
       "      <td>4177.000000</td>\n",
       "      <td>4177.000000</td>\n",
       "      <td>4177.000000</td>\n",
       "      <td>4177.000000</td>\n",
       "      <td>4177.000000</td>\n",
       "      <td>4177.000000</td>\n",
       "    </tr>\n",
       "    <tr>\n",
       "      <th>mean</th>\n",
       "      <td>0.523992</td>\n",
       "      <td>0.407881</td>\n",
       "      <td>0.139516</td>\n",
       "      <td>0.828742</td>\n",
       "      <td>0.359367</td>\n",
       "      <td>0.180594</td>\n",
       "      <td>0.238831</td>\n",
       "      <td>9.933684</td>\n",
       "    </tr>\n",
       "    <tr>\n",
       "      <th>std</th>\n",
       "      <td>0.120093</td>\n",
       "      <td>0.099240</td>\n",
       "      <td>0.041827</td>\n",
       "      <td>0.490389</td>\n",
       "      <td>0.221963</td>\n",
       "      <td>0.109614</td>\n",
       "      <td>0.139203</td>\n",
       "      <td>3.224169</td>\n",
       "    </tr>\n",
       "    <tr>\n",
       "      <th>min</th>\n",
       "      <td>0.075000</td>\n",
       "      <td>0.055000</td>\n",
       "      <td>0.000000</td>\n",
       "      <td>0.002000</td>\n",
       "      <td>0.001000</td>\n",
       "      <td>0.000500</td>\n",
       "      <td>0.001500</td>\n",
       "      <td>1.000000</td>\n",
       "    </tr>\n",
       "    <tr>\n",
       "      <th>25%</th>\n",
       "      <td>0.450000</td>\n",
       "      <td>0.350000</td>\n",
       "      <td>0.115000</td>\n",
       "      <td>0.441500</td>\n",
       "      <td>0.186000</td>\n",
       "      <td>0.093500</td>\n",
       "      <td>0.130000</td>\n",
       "      <td>8.000000</td>\n",
       "    </tr>\n",
       "    <tr>\n",
       "      <th>50%</th>\n",
       "      <td>0.545000</td>\n",
       "      <td>0.425000</td>\n",
       "      <td>0.140000</td>\n",
       "      <td>0.799500</td>\n",
       "      <td>0.336000</td>\n",
       "      <td>0.171000</td>\n",
       "      <td>0.234000</td>\n",
       "      <td>9.000000</td>\n",
       "    </tr>\n",
       "    <tr>\n",
       "      <th>75%</th>\n",
       "      <td>0.615000</td>\n",
       "      <td>0.480000</td>\n",
       "      <td>0.165000</td>\n",
       "      <td>1.153000</td>\n",
       "      <td>0.502000</td>\n",
       "      <td>0.253000</td>\n",
       "      <td>0.329000</td>\n",
       "      <td>11.000000</td>\n",
       "    </tr>\n",
       "    <tr>\n",
       "      <th>max</th>\n",
       "      <td>0.815000</td>\n",
       "      <td>0.650000</td>\n",
       "      <td>1.130000</td>\n",
       "      <td>2.825500</td>\n",
       "      <td>1.488000</td>\n",
       "      <td>0.760000</td>\n",
       "      <td>1.005000</td>\n",
       "      <td>29.000000</td>\n",
       "    </tr>\n",
       "  </tbody>\n",
       "</table>\n",
       "</div>"
      ],
      "text/plain": [
       "            Length     Diameter       Height  Whole weight  Shucked weight  \\\n",
       "count  4177.000000  4177.000000  4177.000000   4177.000000     4177.000000   \n",
       "mean      0.523992     0.407881     0.139516      0.828742        0.359367   \n",
       "std       0.120093     0.099240     0.041827      0.490389        0.221963   \n",
       "min       0.075000     0.055000     0.000000      0.002000        0.001000   \n",
       "25%       0.450000     0.350000     0.115000      0.441500        0.186000   \n",
       "50%       0.545000     0.425000     0.140000      0.799500        0.336000   \n",
       "75%       0.615000     0.480000     0.165000      1.153000        0.502000   \n",
       "max       0.815000     0.650000     1.130000      2.825500        1.488000   \n",
       "\n",
       "       Viscera weight  Shell weight        Rings  \n",
       "count     4177.000000   4177.000000  4177.000000  \n",
       "mean         0.180594      0.238831     9.933684  \n",
       "std          0.109614      0.139203     3.224169  \n",
       "min          0.000500      0.001500     1.000000  \n",
       "25%          0.093500      0.130000     8.000000  \n",
       "50%          0.171000      0.234000     9.000000  \n",
       "75%          0.253000      0.329000    11.000000  \n",
       "max          0.760000      1.005000    29.000000  "
      ]
     },
     "execution_count": 29,
     "metadata": {},
     "output_type": "execute_result"
    }
   ],
   "source": [
    "data.describe()"
   ]
  },
  {
   "cell_type": "code",
   "execution_count": 30,
   "metadata": {},
   "outputs": [
    {
     "data": {
      "text/html": [
       "<div>\n",
       "<style scoped>\n",
       "    .dataframe tbody tr th:only-of-type {\n",
       "        vertical-align: middle;\n",
       "    }\n",
       "\n",
       "    .dataframe tbody tr th {\n",
       "        vertical-align: top;\n",
       "    }\n",
       "\n",
       "    .dataframe thead th {\n",
       "        text-align: right;\n",
       "    }\n",
       "</style>\n",
       "<table border=\"1\" class=\"dataframe\">\n",
       "  <thead>\n",
       "    <tr style=\"text-align: right;\">\n",
       "      <th></th>\n",
       "      <th>0</th>\n",
       "      <th>1</th>\n",
       "    </tr>\n",
       "  </thead>\n",
       "  <tbody>\n",
       "    <tr>\n",
       "      <th>Sex</th>\n",
       "      <td>M</td>\n",
       "      <td>NaN</td>\n",
       "    </tr>\n",
       "    <tr>\n",
       "      <th>Length</th>\n",
       "      <td>0.55</td>\n",
       "      <td>0.625</td>\n",
       "    </tr>\n",
       "    <tr>\n",
       "      <th>Diameter</th>\n",
       "      <td>0.45</td>\n",
       "      <td>NaN</td>\n",
       "    </tr>\n",
       "    <tr>\n",
       "      <th>Height</th>\n",
       "      <td>0.15</td>\n",
       "      <td>NaN</td>\n",
       "    </tr>\n",
       "    <tr>\n",
       "      <th>Whole weight</th>\n",
       "      <td>0.2225</td>\n",
       "      <td>NaN</td>\n",
       "    </tr>\n",
       "    <tr>\n",
       "      <th>Shucked weight</th>\n",
       "      <td>0.175</td>\n",
       "      <td>NaN</td>\n",
       "    </tr>\n",
       "    <tr>\n",
       "      <th>Viscera weight</th>\n",
       "      <td>0.1715</td>\n",
       "      <td>NaN</td>\n",
       "    </tr>\n",
       "    <tr>\n",
       "      <th>Shell weight</th>\n",
       "      <td>0.275</td>\n",
       "      <td>NaN</td>\n",
       "    </tr>\n",
       "    <tr>\n",
       "      <th>Rings</th>\n",
       "      <td>9</td>\n",
       "      <td>NaN</td>\n",
       "    </tr>\n",
       "  </tbody>\n",
       "</table>\n",
       "</div>"
      ],
      "text/plain": [
       "                     0      1\n",
       "Sex                  M    NaN\n",
       "Length            0.55  0.625\n",
       "Diameter          0.45    NaN\n",
       "Height            0.15    NaN\n",
       "Whole weight    0.2225    NaN\n",
       "Shucked weight   0.175    NaN\n",
       "Viscera weight  0.1715    NaN\n",
       "Shell weight     0.275    NaN\n",
       "Rings                9    NaN"
      ]
     },
     "execution_count": 30,
     "metadata": {},
     "output_type": "execute_result"
    }
   ],
   "source": [
    "data.mode().T"
   ]
  },
  {
   "cell_type": "code",
   "execution_count": 31,
   "metadata": {},
   "outputs": [
    {
     "data": {
      "text/plain": [
       "(4177, 9)"
      ]
     },
     "execution_count": 31,
     "metadata": {},
     "output_type": "execute_result"
    }
   ],
   "source": [
    "data.shape"
   ]
  },
  {
   "cell_type": "code",
   "execution_count": 32,
   "metadata": {},
   "outputs": [
    {
     "data": {
      "text/plain": [
       "Length             0.064621\n",
       "Diameter          -0.045476\n",
       "Height            76.025509\n",
       "Whole weight      -0.023644\n",
       "Shucked weight     0.595124\n",
       "Viscera weight     0.084012\n",
       "Shell weight       0.531926\n",
       "Rings              2.330687\n",
       "dtype: float64"
      ]
     },
     "execution_count": 32,
     "metadata": {},
     "output_type": "execute_result"
    }
   ],
   "source": [
    "data.kurt()"
   ]
  },
  {
   "cell_type": "code",
   "execution_count": 33,
   "metadata": {},
   "outputs": [
    {
     "data": {
      "text/plain": [
       "Length           -0.639873\n",
       "Diameter         -0.609198\n",
       "Height            3.128817\n",
       "Whole weight      0.530959\n",
       "Shucked weight    0.719098\n",
       "Viscera weight    0.591852\n",
       "Shell weight      0.620927\n",
       "Rings             1.114102\n",
       "dtype: float64"
      ]
     },
     "execution_count": 33,
     "metadata": {},
     "output_type": "execute_result"
    }
   ],
   "source": [
    "data.skew()"
   ]
  },
  {
   "cell_type": "code",
   "execution_count": 34,
   "metadata": {},
   "outputs": [
    {
     "data": {
      "text/plain": [
       "Length             0.014422\n",
       "Diameter           0.009849\n",
       "Height             0.001750\n",
       "Whole weight       0.240481\n",
       "Shucked weight     0.049268\n",
       "Viscera weight     0.012015\n",
       "Shell weight       0.019377\n",
       "Rings             10.395266\n",
       "dtype: float64"
      ]
     },
     "execution_count": 34,
     "metadata": {},
     "output_type": "execute_result"
    }
   ],
   "source": [
    "data.var()"
   ]
  },
  {
   "cell_type": "code",
   "execution_count": 35,
   "metadata": {},
   "outputs": [
    {
     "data": {
      "text/plain": [
       "Sex                  3\n",
       "Length             134\n",
       "Diameter           111\n",
       "Height              51\n",
       "Whole weight      2429\n",
       "Shucked weight    1515\n",
       "Viscera weight     880\n",
       "Shell weight       926\n",
       "Rings               28\n",
       "dtype: int64"
      ]
     },
     "execution_count": 35,
     "metadata": {},
     "output_type": "execute_result"
    }
   ],
   "source": [
    "data.nunique()"
   ]
  },
  {
   "cell_type": "markdown",
   "metadata": {},
   "source": [
    "#### 4.Check for missing values and deal with them"
   ]
  },
  {
   "cell_type": "code",
   "execution_count": 36,
   "metadata": {},
   "outputs": [
    {
     "data": {
      "text/html": [
       "<div>\n",
       "<style scoped>\n",
       "    .dataframe tbody tr th:only-of-type {\n",
       "        vertical-align: middle;\n",
       "    }\n",
       "\n",
       "    .dataframe tbody tr th {\n",
       "        vertical-align: top;\n",
       "    }\n",
       "\n",
       "    .dataframe thead th {\n",
       "        text-align: right;\n",
       "    }\n",
       "</style>\n",
       "<table border=\"1\" class=\"dataframe\">\n",
       "  <thead>\n",
       "    <tr style=\"text-align: right;\">\n",
       "      <th></th>\n",
       "      <th>Sex</th>\n",
       "      <th>Length</th>\n",
       "      <th>Diameter</th>\n",
       "      <th>Height</th>\n",
       "      <th>Whole weight</th>\n",
       "      <th>Shucked weight</th>\n",
       "      <th>Viscera weight</th>\n",
       "      <th>Shell weight</th>\n",
       "      <th>Rings</th>\n",
       "    </tr>\n",
       "  </thead>\n",
       "  <tbody>\n",
       "    <tr>\n",
       "      <th>0</th>\n",
       "      <td>False</td>\n",
       "      <td>False</td>\n",
       "      <td>False</td>\n",
       "      <td>False</td>\n",
       "      <td>False</td>\n",
       "      <td>False</td>\n",
       "      <td>False</td>\n",
       "      <td>False</td>\n",
       "      <td>False</td>\n",
       "    </tr>\n",
       "    <tr>\n",
       "      <th>1</th>\n",
       "      <td>False</td>\n",
       "      <td>False</td>\n",
       "      <td>False</td>\n",
       "      <td>False</td>\n",
       "      <td>False</td>\n",
       "      <td>False</td>\n",
       "      <td>False</td>\n",
       "      <td>False</td>\n",
       "      <td>False</td>\n",
       "    </tr>\n",
       "    <tr>\n",
       "      <th>2</th>\n",
       "      <td>False</td>\n",
       "      <td>False</td>\n",
       "      <td>False</td>\n",
       "      <td>False</td>\n",
       "      <td>False</td>\n",
       "      <td>False</td>\n",
       "      <td>False</td>\n",
       "      <td>False</td>\n",
       "      <td>False</td>\n",
       "    </tr>\n",
       "    <tr>\n",
       "      <th>3</th>\n",
       "      <td>False</td>\n",
       "      <td>False</td>\n",
       "      <td>False</td>\n",
       "      <td>False</td>\n",
       "      <td>False</td>\n",
       "      <td>False</td>\n",
       "      <td>False</td>\n",
       "      <td>False</td>\n",
       "      <td>False</td>\n",
       "    </tr>\n",
       "    <tr>\n",
       "      <th>4</th>\n",
       "      <td>False</td>\n",
       "      <td>False</td>\n",
       "      <td>False</td>\n",
       "      <td>False</td>\n",
       "      <td>False</td>\n",
       "      <td>False</td>\n",
       "      <td>False</td>\n",
       "      <td>False</td>\n",
       "      <td>False</td>\n",
       "    </tr>\n",
       "    <tr>\n",
       "      <th>...</th>\n",
       "      <td>...</td>\n",
       "      <td>...</td>\n",
       "      <td>...</td>\n",
       "      <td>...</td>\n",
       "      <td>...</td>\n",
       "      <td>...</td>\n",
       "      <td>...</td>\n",
       "      <td>...</td>\n",
       "      <td>...</td>\n",
       "    </tr>\n",
       "    <tr>\n",
       "      <th>4172</th>\n",
       "      <td>False</td>\n",
       "      <td>False</td>\n",
       "      <td>False</td>\n",
       "      <td>False</td>\n",
       "      <td>False</td>\n",
       "      <td>False</td>\n",
       "      <td>False</td>\n",
       "      <td>False</td>\n",
       "      <td>False</td>\n",
       "    </tr>\n",
       "    <tr>\n",
       "      <th>4173</th>\n",
       "      <td>False</td>\n",
       "      <td>False</td>\n",
       "      <td>False</td>\n",
       "      <td>False</td>\n",
       "      <td>False</td>\n",
       "      <td>False</td>\n",
       "      <td>False</td>\n",
       "      <td>False</td>\n",
       "      <td>False</td>\n",
       "    </tr>\n",
       "    <tr>\n",
       "      <th>4174</th>\n",
       "      <td>False</td>\n",
       "      <td>False</td>\n",
       "      <td>False</td>\n",
       "      <td>False</td>\n",
       "      <td>False</td>\n",
       "      <td>False</td>\n",
       "      <td>False</td>\n",
       "      <td>False</td>\n",
       "      <td>False</td>\n",
       "    </tr>\n",
       "    <tr>\n",
       "      <th>4175</th>\n",
       "      <td>False</td>\n",
       "      <td>False</td>\n",
       "      <td>False</td>\n",
       "      <td>False</td>\n",
       "      <td>False</td>\n",
       "      <td>False</td>\n",
       "      <td>False</td>\n",
       "      <td>False</td>\n",
       "      <td>False</td>\n",
       "    </tr>\n",
       "    <tr>\n",
       "      <th>4176</th>\n",
       "      <td>False</td>\n",
       "      <td>False</td>\n",
       "      <td>False</td>\n",
       "      <td>False</td>\n",
       "      <td>False</td>\n",
       "      <td>False</td>\n",
       "      <td>False</td>\n",
       "      <td>False</td>\n",
       "      <td>False</td>\n",
       "    </tr>\n",
       "  </tbody>\n",
       "</table>\n",
       "<p>4177 rows × 9 columns</p>\n",
       "</div>"
      ],
      "text/plain": [
       "        Sex  Length  Diameter  Height  Whole weight  Shucked weight  \\\n",
       "0     False   False     False   False         False           False   \n",
       "1     False   False     False   False         False           False   \n",
       "2     False   False     False   False         False           False   \n",
       "3     False   False     False   False         False           False   \n",
       "4     False   False     False   False         False           False   \n",
       "...     ...     ...       ...     ...           ...             ...   \n",
       "4172  False   False     False   False         False           False   \n",
       "4173  False   False     False   False         False           False   \n",
       "4174  False   False     False   False         False           False   \n",
       "4175  False   False     False   False         False           False   \n",
       "4176  False   False     False   False         False           False   \n",
       "\n",
       "      Viscera weight  Shell weight  Rings  \n",
       "0              False         False  False  \n",
       "1              False         False  False  \n",
       "2              False         False  False  \n",
       "3              False         False  False  \n",
       "4              False         False  False  \n",
       "...              ...           ...    ...  \n",
       "4172           False         False  False  \n",
       "4173           False         False  False  \n",
       "4174           False         False  False  \n",
       "4175           False         False  False  \n",
       "4176           False         False  False  \n",
       "\n",
       "[4177 rows x 9 columns]"
      ]
     },
     "execution_count": 36,
     "metadata": {},
     "output_type": "execute_result"
    }
   ],
   "source": [
    "data.isna()"
   ]
  },
  {
   "cell_type": "code",
   "execution_count": 37,
   "metadata": {},
   "outputs": [
    {
     "data": {
      "text/plain": [
       "Sex               False\n",
       "Length            False\n",
       "Diameter          False\n",
       "Height            False\n",
       "Whole weight      False\n",
       "Shucked weight    False\n",
       "Viscera weight    False\n",
       "Shell weight      False\n",
       "Rings             False\n",
       "dtype: bool"
      ]
     },
     "execution_count": 37,
     "metadata": {},
     "output_type": "execute_result"
    }
   ],
   "source": [
    "data.isna().any()"
   ]
  },
  {
   "cell_type": "code",
   "execution_count": 38,
   "metadata": {},
   "outputs": [
    {
     "data": {
      "text/plain": [
       "Sex               0\n",
       "Length            0\n",
       "Diameter          0\n",
       "Height            0\n",
       "Whole weight      0\n",
       "Shucked weight    0\n",
       "Viscera weight    0\n",
       "Shell weight      0\n",
       "Rings             0\n",
       "dtype: int64"
      ]
     },
     "execution_count": 38,
     "metadata": {},
     "output_type": "execute_result"
    }
   ],
   "source": [
    "data.isna().sum()"
   ]
  },
  {
   "cell_type": "code",
   "execution_count": 39,
   "metadata": {},
   "outputs": [
    {
     "data": {
      "text/plain": [
       "0"
      ]
     },
     "execution_count": 39,
     "metadata": {},
     "output_type": "execute_result"
    }
   ],
   "source": [
    "data.isna().any().sum()"
   ]
  },
  {
   "cell_type": "markdown",
   "metadata": {},
   "source": [
    "#### 5.Find the outliers and replace them outliers"
   ]
  },
  {
   "cell_type": "code",
   "execution_count": 40,
   "metadata": {},
   "outputs": [
    {
     "data": {
      "text/plain": [
       "<AxesSubplot:xlabel='Diameter'>"
      ]
     },
     "execution_count": 40,
     "metadata": {},
     "output_type": "execute_result"
    },
    {
     "data": {
      "image/png": "[encoded data removed]",
      "text/plain": [
       "<Figure size 432x288 with 1 Axes>"
      ]
     },
     "metadata": {
      "needs_background": "light"
     },
     "output_type": "display_data"
    }
   ],
   "source": [
    "sns.boxplot(data['Diameter'])"
   ]
  },
  {
   "cell_type": "code",
   "execution_count": 41,
   "metadata": {},
   "outputs": [
    {
     "data": {
      "text/html": [
       "<div>\n",
       "<style scoped>\n",
       "    .dataframe tbody tr th:only-of-type {\n",
       "        vertical-align: middle;\n",
       "    }\n",
       "\n",
       "    .dataframe tbody tr th {\n",
       "        vertical-align: top;\n",
       "    }\n",
       "\n",
       "    .dataframe thead th {\n",
       "        text-align: right;\n",
       "    }\n",
       "</style>\n",
       "<table border=\"1\" class=\"dataframe\">\n",
       "  <thead>\n",
       "    <tr style=\"text-align: right;\">\n",
       "      <th></th>\n",
       "      <th>Length</th>\n",
       "      <th>Diameter</th>\n",
       "      <th>Height</th>\n",
       "      <th>Whole weight</th>\n",
       "      <th>Shucked weight</th>\n",
       "      <th>Viscera weight</th>\n",
       "      <th>Shell weight</th>\n",
       "      <th>Rings</th>\n",
       "    </tr>\n",
       "  </thead>\n",
       "  <tbody>\n",
       "    <tr>\n",
       "      <th>0.25</th>\n",
       "      <td>0.450</td>\n",
       "      <td>0.35</td>\n",
       "      <td>0.115</td>\n",
       "      <td>0.4415</td>\n",
       "      <td>0.186</td>\n",
       "      <td>0.0935</td>\n",
       "      <td>0.130</td>\n",
       "      <td>8.0</td>\n",
       "    </tr>\n",
       "    <tr>\n",
       "      <th>0.75</th>\n",
       "      <td>0.615</td>\n",
       "      <td>0.48</td>\n",
       "      <td>0.165</td>\n",
       "      <td>1.1530</td>\n",
       "      <td>0.502</td>\n",
       "      <td>0.2530</td>\n",
       "      <td>0.329</td>\n",
       "      <td>11.0</td>\n",
       "    </tr>\n",
       "  </tbody>\n",
       "</table>\n",
       "</div>"
      ],
      "text/plain": [
       "      Length  Diameter  Height  Whole weight  Shucked weight  Viscera weight  \\\n",
       "0.25   0.450      0.35   0.115        0.4415           0.186          0.0935   \n",
       "0.75   0.615      0.48   0.165        1.1530           0.502          0.2530   \n",
       "\n",
       "      Shell weight  Rings  \n",
       "0.25         0.130    8.0  \n",
       "0.75         0.329   11.0  "
      ]
     },
     "execution_count": 41,
     "metadata": {},
     "output_type": "execute_result"
    }
   ],
   "source": [
    "quant=data.quantile(q=[0.25,0.75])\n",
    "quant"
   ]
  },
  {
   "cell_type": "code",
   "execution_count": 42,
   "metadata": {},
   "outputs": [
    {
     "data": {
      "text/plain": [
       "Length            0.1650\n",
       "Diameter          0.1300\n",
       "Height            0.0500\n",
       "Whole weight      0.7115\n",
       "Shucked weight    0.3160\n",
       "Viscera weight    0.1595\n",
       "Shell weight      0.1990\n",
       "Rings             3.0000\n",
       "dtype: float64"
      ]
     },
     "execution_count": 42,
     "metadata": {},
     "output_type": "execute_result"
    }
   ],
   "source": [
    "iqr=quant.loc[0.75]-quant.loc[0.25]\n",
    "iqr"
   ]
  },
  {
   "cell_type": "code",
   "execution_count": 43,
   "metadata": {},
   "outputs": [
    {
     "data": {
      "text/plain": [
       "Length            0.20250\n",
       "Diameter          0.15500\n",
       "Height            0.04000\n",
       "Whole weight     -0.62575\n",
       "Shucked weight   -0.28800\n",
       "Viscera weight   -0.14575\n",
       "Shell weight     -0.16850\n",
       "Rings             3.50000\n",
       "dtype: float64"
      ]
     },
     "execution_count": 43,
     "metadata": {},
     "output_type": "execute_result"
    }
   ],
   "source": [
    "low=quant.loc[0.25]-(1.5*iqr)\n",
    "low"
   ]
  },
  {
   "cell_type": "code",
   "execution_count": 44,
   "metadata": {},
   "outputs": [
    {
     "data": {
      "text/plain": [
       "Length             0.86250\n",
       "Diameter           0.67500\n",
       "Height             0.24000\n",
       "Whole weight       2.22025\n",
       "Shucked weight     0.97600\n",
       "Viscera weight     0.49225\n",
       "Shell weight       0.62750\n",
       "Rings             15.50000\n",
       "dtype: float64"
      ]
     },
     "execution_count": 44,
     "metadata": {},
     "output_type": "execute_result"
    }
   ],
   "source": [
    "up=quant.loc[0.75]+(1.5*iqr)\n",
    "up"
   ]
  },
  {
   "cell_type": "code",
   "execution_count": 45,
   "metadata": {},
   "outputs": [
    {
     "data": {
      "text/plain": [
       "<AxesSubplot:xlabel='Diameter'>"
      ]
     },
     "execution_count": 45,
     "metadata": {},
     "output_type": "execute_result"
    },
    {
     "data": {
      "image/png": "[encoded data removed]",
      "text/plain": [
       "<Figure size 432x288 with 1 Axes>"
      ]
     },
     "metadata": {
      "needs_background": "light"
     },
     "output_type": "display_data"
    }
   ],
   "source": [
    "data['Diameter']=np.where(data['Diameter']<0.155,0.4078,data['Diameter'])\n",
    "sns.boxplot(data['Diameter'])"
   ]
  },
  {
   "cell_type": "code",
   "execution_count": 46,
   "metadata": {},
   "outputs": [
    {
     "data": {
      "text/plain": [
       "<AxesSubplot:xlabel='Length'>"
      ]
     },
     "execution_count": 46,
     "metadata": {},
     "output_type": "execute_result"
    },
    {
     "data": {
      "image/png": "[encoded data removed]",
      "text/plain": [
       "<Figure size 432x288 with 1 Axes>"
      ]
     },
     "metadata": {
      "needs_background": "light"
     },
     "output_type": "display_data"
    }
   ],
   "source": [
    "sns.boxplot(data['Length'])"
   ]
  },
  {
   "cell_type": "code",
   "execution_count": 47,
   "metadata": {},
   "outputs": [
    {
     "data": {
      "text/plain": [
       "<AxesSubplot:xlabel='Length'>"
      ]
     },
     "execution_count": 47,
     "metadata": {},
     "output_type": "execute_result"
    },
    {
     "data": {
      "image/png": "[encoded data removed]",
      "text/plain": [
       "<Figure size 432x288 with 1 Axes>"
      ]
     },
     "metadata": {
      "needs_background": "light"
     },
     "output_type": "display_data"
    }
   ],
   "source": [
    "data['Length']=np.where(data['Length']<0.23,0.52, data['Length'])\n",
    "sns.boxplot(data['Length'])"
   ]
  },
  {
   "cell_type": "code",
   "execution_count": 48,
   "metadata": {},
   "outputs": [
    {
     "data": {
      "text/plain": [
       "<AxesSubplot:xlabel='Height'>"
      ]
     },
     "execution_count": 48,
     "metadata": {},
     "output_type": "execute_result"
    },
    {
     "data": {
      "image/png": "[encoded data removed]",
      "text/plain": [
       "<Figure size 432x288 with 1 Axes>"
      ]
     },
     "metadata": {
      "needs_background": "light"
     },
     "output_type": "display_data"
    }
   ],
   "source": [
    "sns.boxplot(data['Height'])"
   ]
  },
  {
   "cell_type": "code",
   "execution_count": 49,
   "metadata": {},
   "outputs": [
    {
     "data": {
      "text/plain": [
       "<AxesSubplot:xlabel='Height'>"
      ]
     },
     "execution_count": 49,
     "metadata": {},
     "output_type": "execute_result"
    },
    {
     "data": {
      "image/png": "[encoded data removed]",
      "text/plain": [
       "<Figure size 432x288 with 1 Axes>"
      ]
     },
     "metadata": {
      "needs_background": "light"
     },
     "output_type": "display_data"
    }
   ],
   "source": [
    "data['Height']=np.where(data['Height']<0.04,0.139, data['Height'])\n",
    "data['Height']=np.where(data['Height']>0.23,0.139, data['Height'])\n",
    "sns.boxplot(data['Height'])"
   ]
  },
  {
   "cell_type": "code",
   "execution_count": 50,
   "metadata": {},
   "outputs": [
    {
     "data": {
      "text/plain": [
       "<AxesSubplot:xlabel='Whole weight'>"
      ]
     },
     "execution_count": 50,
     "metadata": {},
     "output_type": "execute_result"
    },
    {
     "data": {
      "image/png": "[encoded data removed]",
      "text/plain": [
       "<Figure size 432x288 with 1 Axes>"
      ]
     },
     "metadata": {
      "needs_background": "light"
     },
     "output_type": "display_data"
    }
   ],
   "source": [
    "sns.boxplot(data['Whole weight'])"
   ]
  },
  {
   "cell_type": "code",
   "execution_count": 51,
   "metadata": {},
   "outputs": [
    {
     "data": {
      "text/plain": [
       "<AxesSubplot:xlabel='Height'>"
      ]
     },
     "execution_count": 51,
     "metadata": {},
     "output_type": "execute_result"
    },
    {
     "data": {
      "image/png": "[encoded data removed]",
      "text/plain": [
       "<Figure size 432x288 with 1 Axes>"
      ]
     },
     "metadata": {
      "needs_background": "light"
     },
     "output_type": "display_data"
    }
   ],
   "source": [
    "data['Height']=np.where(data['Height']<0.04,0.139, data['Height'])\n",
    "data['Height']=np.where(data['Height']>0.23,0.139, data['Height'])\n",
    "sns.boxplot(data['Height'])"
   ]
  },
  {
   "cell_type": "code",
   "execution_count": 52,
   "metadata": {},
   "outputs": [
    {
     "data": {
      "text/plain": [
       "<AxesSubplot:xlabel='Shucked weight'>"
      ]
     },
     "execution_count": 52,
     "metadata": {},
     "output_type": "execute_result"
    },
    {
     "data": {
      "image/png": "[encoded data removed]",
      "text/plain": [
       "<Figure size 432x288 with 1 Axes>"
      ]
     },
     "metadata": {
      "needs_background": "light"
     },
     "output_type": "display_data"
    }
   ],
   "source": [
    "sns.boxplot(data['Shucked weight'])"
   ]
  },
  {
   "cell_type": "code",
   "execution_count": 53,
   "metadata": {},
   "outputs": [
    {
     "data": {
      "text/plain": [
       "<AxesSubplot:xlabel='Whole weight'>"
      ]
     },
     "execution_count": 53,
     "metadata": {},
     "output_type": "execute_result"
    },
    {
     "data": {
      "image/png": "[encoded data removed]",
      "text/plain": [
       "<Figure size 432x288 with 1 Axes>"
      ]
     },
     "metadata": {
      "needs_background": "light"
     },
     "output_type": "display_data"
    }
   ],
   "source": [
    "data['Whole weight']=np.where(data['Whole weight']>0.9,0.82, data['Whole weight'])\n",
    "sns.boxplot(data['Whole weight'])"
   ]
  },
  {
   "cell_type": "code",
   "execution_count": 54,
   "metadata": {},
   "outputs": [
    {
     "data": {
      "text/plain": [
       "<AxesSubplot:xlabel='Whole weight'>"
      ]
     },
     "execution_count": 54,
     "metadata": {},
     "output_type": "execute_result"
    },
    {
     "data": {
      "image/png": "[encoded data removed]",
      "text/plain": [
       "<Figure size 432x288 with 1 Axes>"
      ]
     },
     "metadata": {
      "needs_background": "light"
     },
     "output_type": "display_data"
    }
   ],
   "source": [
    "data['Whole weight']=np.where(data['Whole weight']>0.9,0.82, data['Whole weight'])\n",
    "sns.boxplot(data['Whole weight'])"
   ]
  },
  {
   "cell_type": "code",
   "execution_count": 55,
   "metadata": {},
   "outputs": [
    {
     "data": {
      "text/plain": [
       "<AxesSubplot:xlabel='Shucked weight'>"
      ]
     },
     "execution_count": 55,
     "metadata": {},
     "output_type": "execute_result"
    },
    {
     "data": {
      "image/png": "[encoded data removed]",
      "text/plain": [
       "<Figure size 432x288 with 1 Axes>"
      ]
     },
     "metadata": {
      "needs_background": "light"
     },
     "output_type": "display_data"
    }
   ],
   "source": [
    "data['Shucked weight']=np.where(data['Shucked weight']>0.93,0.35, data['Shucked weight'])\n",
    "sns.boxplot(data['Shucked weight'])"
   ]
  },
  {
   "cell_type": "code",
   "execution_count": 56,
   "metadata": {},
   "outputs": [
    {
     "data": {
      "text/plain": [
       "<AxesSubplot:xlabel='Shell weight'>"
      ]
     },
     "execution_count": 56,
     "metadata": {},
     "output_type": "execute_result"
    },
    {
     "data": {
      "image/png": "[encoded data removed]",
      "text/plain": [
       "<Figure size 432x288 with 1 Axes>"
      ]
     },
     "metadata": {
      "needs_background": "light"
     },
     "output_type": "display_data"
    }
   ],
   "source": [
    "sns.boxplot(data['Shell weight'])"
   ]
  },
  {
   "cell_type": "code",
   "execution_count": 57,
   "metadata": {},
   "outputs": [
    {
     "data": {
      "text/plain": [
       "<AxesSubplot:xlabel='Viscera weight'>"
      ]
     },
     "execution_count": 57,
     "metadata": {},
     "output_type": "execute_result"
    },
    {
     "data": {
      "image/png": "[encoded data removed]",
      "text/plain": [
       "<Figure size 432x288 with 1 Axes>"
      ]
     },
     "metadata": {
      "needs_background": "light"
     },
     "output_type": "display_data"
    }
   ],
   "source": [
    "data['Viscera weight']=np.where(data['Viscera weight']>0.46,0.18, data['Viscera weight'])\n",
    "sns.boxplot(data['Viscera weight'])"
   ]
  },
  {
   "cell_type": "markdown",
   "metadata": {},
   "source": [
    "#### 6.Check for Categorical columns and perform encoding."
   ]
  },
  {
   "cell_type": "code",
   "execution_count": 58,
   "metadata": {},
   "outputs": [
    {
     "data": {
      "text/html": [
       "<div>\n",
       "<style scoped>\n",
       "    .dataframe tbody tr th:only-of-type {\n",
       "        vertical-align: middle;\n",
       "    }\n",
       "\n",
       "    .dataframe tbody tr th {\n",
       "        vertical-align: top;\n",
       "    }\n",
       "\n",
       "    .dataframe thead th {\n",
       "        text-align: right;\n",
       "    }\n",
       "</style>\n",
       "<table border=\"1\" class=\"dataframe\">\n",
       "  <thead>\n",
       "    <tr style=\"text-align: right;\">\n",
       "      <th></th>\n",
       "      <th>Sex</th>\n",
       "      <th>Length</th>\n",
       "      <th>Diameter</th>\n",
       "      <th>Height</th>\n",
       "      <th>Whole weight</th>\n",
       "      <th>Shucked weight</th>\n",
       "      <th>Viscera weight</th>\n",
       "      <th>Shell weight</th>\n",
       "      <th>Rings</th>\n",
       "    </tr>\n",
       "  </thead>\n",
       "  <tbody>\n",
       "    <tr>\n",
       "      <th>0</th>\n",
       "      <td>1</td>\n",
       "      <td>0.455</td>\n",
       "      <td>0.365</td>\n",
       "      <td>0.095</td>\n",
       "      <td>0.5140</td>\n",
       "      <td>0.2245</td>\n",
       "      <td>0.1010</td>\n",
       "      <td>0.1500</td>\n",
       "      <td>15</td>\n",
       "    </tr>\n",
       "    <tr>\n",
       "      <th>1</th>\n",
       "      <td>1</td>\n",
       "      <td>0.350</td>\n",
       "      <td>0.265</td>\n",
       "      <td>0.090</td>\n",
       "      <td>0.2255</td>\n",
       "      <td>0.0995</td>\n",
       "      <td>0.0485</td>\n",
       "      <td>0.0700</td>\n",
       "      <td>7</td>\n",
       "    </tr>\n",
       "    <tr>\n",
       "      <th>2</th>\n",
       "      <td>0</td>\n",
       "      <td>0.530</td>\n",
       "      <td>0.420</td>\n",
       "      <td>0.135</td>\n",
       "      <td>0.6770</td>\n",
       "      <td>0.2565</td>\n",
       "      <td>0.1415</td>\n",
       "      <td>0.2100</td>\n",
       "      <td>9</td>\n",
       "    </tr>\n",
       "    <tr>\n",
       "      <th>3</th>\n",
       "      <td>1</td>\n",
       "      <td>0.440</td>\n",
       "      <td>0.365</td>\n",
       "      <td>0.125</td>\n",
       "      <td>0.5160</td>\n",
       "      <td>0.2155</td>\n",
       "      <td>0.1140</td>\n",
       "      <td>0.1550</td>\n",
       "      <td>10</td>\n",
       "    </tr>\n",
       "    <tr>\n",
       "      <th>4</th>\n",
       "      <td>2</td>\n",
       "      <td>0.330</td>\n",
       "      <td>0.255</td>\n",
       "      <td>0.080</td>\n",
       "      <td>0.2050</td>\n",
       "      <td>0.0895</td>\n",
       "      <td>0.0395</td>\n",
       "      <td>0.0550</td>\n",
       "      <td>7</td>\n",
       "    </tr>\n",
       "    <tr>\n",
       "      <th>...</th>\n",
       "      <td>...</td>\n",
       "      <td>...</td>\n",
       "      <td>...</td>\n",
       "      <td>...</td>\n",
       "      <td>...</td>\n",
       "      <td>...</td>\n",
       "      <td>...</td>\n",
       "      <td>...</td>\n",
       "      <td>...</td>\n",
       "    </tr>\n",
       "    <tr>\n",
       "      <th>4172</th>\n",
       "      <td>0</td>\n",
       "      <td>0.565</td>\n",
       "      <td>0.450</td>\n",
       "      <td>0.165</td>\n",
       "      <td>0.8870</td>\n",
       "      <td>0.3700</td>\n",
       "      <td>0.2390</td>\n",
       "      <td>0.2490</td>\n",
       "      <td>11</td>\n",
       "    </tr>\n",
       "    <tr>\n",
       "      <th>4173</th>\n",
       "      <td>1</td>\n",
       "      <td>0.590</td>\n",
       "      <td>0.440</td>\n",
       "      <td>0.135</td>\n",
       "      <td>0.8200</td>\n",
       "      <td>0.4390</td>\n",
       "      <td>0.2145</td>\n",
       "      <td>0.2605</td>\n",
       "      <td>10</td>\n",
       "    </tr>\n",
       "    <tr>\n",
       "      <th>4174</th>\n",
       "      <td>1</td>\n",
       "      <td>0.600</td>\n",
       "      <td>0.475</td>\n",
       "      <td>0.205</td>\n",
       "      <td>0.8200</td>\n",
       "      <td>0.5255</td>\n",
       "      <td>0.2875</td>\n",
       "      <td>0.3080</td>\n",
       "      <td>9</td>\n",
       "    </tr>\n",
       "    <tr>\n",
       "      <th>4175</th>\n",
       "      <td>0</td>\n",
       "      <td>0.625</td>\n",
       "      <td>0.485</td>\n",
       "      <td>0.150</td>\n",
       "      <td>0.8200</td>\n",
       "      <td>0.5310</td>\n",
       "      <td>0.2610</td>\n",
       "      <td>0.2960</td>\n",
       "      <td>10</td>\n",
       "    </tr>\n",
       "    <tr>\n",
       "      <th>4176</th>\n",
       "      <td>1</td>\n",
       "      <td>0.710</td>\n",
       "      <td>0.555</td>\n",
       "      <td>0.195</td>\n",
       "      <td>0.8200</td>\n",
       "      <td>0.3500</td>\n",
       "      <td>0.3765</td>\n",
       "      <td>0.4950</td>\n",
       "      <td>12</td>\n",
       "    </tr>\n",
       "  </tbody>\n",
       "</table>\n",
       "<p>4177 rows × 9 columns</p>\n",
       "</div>"
      ],
      "text/plain": [
       "      Sex  Length  Diameter  Height  Whole weight  Shucked weight  \\\n",
       "0       1   0.455     0.365   0.095        0.5140          0.2245   \n",
       "1       1   0.350     0.265   0.090        0.2255          0.0995   \n",
       "2       0   0.530     0.420   0.135        0.6770          0.2565   \n",
       "3       1   0.440     0.365   0.125        0.5160          0.2155   \n",
       "4       2   0.330     0.255   0.080        0.2050          0.0895   \n",
       "...   ...     ...       ...     ...           ...             ...   \n",
       "4172    0   0.565     0.450   0.165        0.8870          0.3700   \n",
       "4173    1   0.590     0.440   0.135        0.8200          0.4390   \n",
       "4174    1   0.600     0.475   0.205        0.8200          0.5255   \n",
       "4175    0   0.625     0.485   0.150        0.8200          0.5310   \n",
       "4176    1   0.710     0.555   0.195        0.8200          0.3500   \n",
       "\n",
       "      Viscera weight  Shell weight  Rings  \n",
       "0             0.1010        0.1500     15  \n",
       "1             0.0485        0.0700      7  \n",
       "2             0.1415        0.2100      9  \n",
       "3             0.1140        0.1550     10  \n",
       "4             0.0395        0.0550      7  \n",
       "...              ...           ...    ...  \n",
       "4172          0.2390        0.2490     11  \n",
       "4173          0.2145        0.2605     10  \n",
       "4174          0.2875        0.3080      9  \n",
       "4175          0.2610        0.2960     10  \n",
       "4176          0.3765        0.4950     12  \n",
       "\n",
       "[4177 rows x 9 columns]"
      ]
     },
     "execution_count": 58,
     "metadata": {},
     "output_type": "execute_result"
    }
   ],
   "source": [
    "data['Sex'].replace({'M':1,'F':0,'I':2},inplace=True)\n",
    "data"
   ]
  },
  {
   "cell_type": "markdown",
   "metadata": {},
   "source": [
    "#### 7.Split the data into dependent and independent variables."
   ]
  },
  {
   "cell_type": "code",
   "execution_count": 60,
   "metadata": {},
   "outputs": [
    {
     "data": {
      "text/html": [
       "<div>\n",
       "<style scoped>\n",
       "    .dataframe tbody tr th:only-of-type {\n",
       "        vertical-align: middle;\n",
       "    }\n",
       "\n",
       "    .dataframe tbody tr th {\n",
       "        vertical-align: top;\n",
       "    }\n",
       "\n",
       "    .dataframe thead th {\n",
       "        text-align: right;\n",
       "    }\n",
       "</style>\n",
       "<table border=\"1\" class=\"dataframe\">\n",
       "  <thead>\n",
       "    <tr style=\"text-align: right;\">\n",
       "      <th></th>\n",
       "      <th>Sex</th>\n",
       "      <th>Length</th>\n",
       "      <th>Diameter</th>\n",
       "      <th>Height</th>\n",
       "      <th>Whole weight</th>\n",
       "      <th>Shucked weight</th>\n",
       "      <th>Viscera weight</th>\n",
       "      <th>Shell weight</th>\n",
       "    </tr>\n",
       "  </thead>\n",
       "  <tbody>\n",
       "    <tr>\n",
       "      <th>0</th>\n",
       "      <td>1</td>\n",
       "      <td>0.455</td>\n",
       "      <td>0.365</td>\n",
       "      <td>0.095</td>\n",
       "      <td>0.5140</td>\n",
       "      <td>0.2245</td>\n",
       "      <td>0.1010</td>\n",
       "      <td>0.1500</td>\n",
       "    </tr>\n",
       "    <tr>\n",
       "      <th>1</th>\n",
       "      <td>1</td>\n",
       "      <td>0.350</td>\n",
       "      <td>0.265</td>\n",
       "      <td>0.090</td>\n",
       "      <td>0.2255</td>\n",
       "      <td>0.0995</td>\n",
       "      <td>0.0485</td>\n",
       "      <td>0.0700</td>\n",
       "    </tr>\n",
       "    <tr>\n",
       "      <th>2</th>\n",
       "      <td>0</td>\n",
       "      <td>0.530</td>\n",
       "      <td>0.420</td>\n",
       "      <td>0.135</td>\n",
       "      <td>0.6770</td>\n",
       "      <td>0.2565</td>\n",
       "      <td>0.1415</td>\n",
       "      <td>0.2100</td>\n",
       "    </tr>\n",
       "    <tr>\n",
       "      <th>3</th>\n",
       "      <td>1</td>\n",
       "      <td>0.440</td>\n",
       "      <td>0.365</td>\n",
       "      <td>0.125</td>\n",
       "      <td>0.5160</td>\n",
       "      <td>0.2155</td>\n",
       "      <td>0.1140</td>\n",
       "      <td>0.1550</td>\n",
       "    </tr>\n",
       "    <tr>\n",
       "      <th>4</th>\n",
       "      <td>2</td>\n",
       "      <td>0.330</td>\n",
       "      <td>0.255</td>\n",
       "      <td>0.080</td>\n",
       "      <td>0.2050</td>\n",
       "      <td>0.0895</td>\n",
       "      <td>0.0395</td>\n",
       "      <td>0.0550</td>\n",
       "    </tr>\n",
       "    <tr>\n",
       "      <th>...</th>\n",
       "      <td>...</td>\n",
       "      <td>...</td>\n",
       "      <td>...</td>\n",
       "      <td>...</td>\n",
       "      <td>...</td>\n",
       "      <td>...</td>\n",
       "      <td>...</td>\n",
       "      <td>...</td>\n",
       "    </tr>\n",
       "    <tr>\n",
       "      <th>4172</th>\n",
       "      <td>0</td>\n",
       "      <td>0.565</td>\n",
       "      <td>0.450</td>\n",
       "      <td>0.165</td>\n",
       "      <td>0.8870</td>\n",
       "      <td>0.3700</td>\n",
       "      <td>0.2390</td>\n",
       "      <td>0.2490</td>\n",
       "    </tr>\n",
       "    <tr>\n",
       "      <th>4173</th>\n",
       "      <td>1</td>\n",
       "      <td>0.590</td>\n",
       "      <td>0.440</td>\n",
       "      <td>0.135</td>\n",
       "      <td>0.8200</td>\n",
       "      <td>0.4390</td>\n",
       "      <td>0.2145</td>\n",
       "      <td>0.2605</td>\n",
       "    </tr>\n",
       "    <tr>\n",
       "      <th>4174</th>\n",
       "      <td>1</td>\n",
       "      <td>0.600</td>\n",
       "      <td>0.475</td>\n",
       "      <td>0.205</td>\n",
       "      <td>0.8200</td>\n",
       "      <td>0.5255</td>\n",
       "      <td>0.2875</td>\n",
       "      <td>0.3080</td>\n",
       "    </tr>\n",
       "    <tr>\n",
       "      <th>4175</th>\n",
       "      <td>0</td>\n",
       "      <td>0.625</td>\n",
       "      <td>0.485</td>\n",
       "      <td>0.150</td>\n",
       "      <td>0.8200</td>\n",
       "      <td>0.5310</td>\n",
       "      <td>0.2610</td>\n",
       "      <td>0.2960</td>\n",
       "    </tr>\n",
       "    <tr>\n",
       "      <th>4176</th>\n",
       "      <td>1</td>\n",
       "      <td>0.710</td>\n",
       "      <td>0.555</td>\n",
       "      <td>0.195</td>\n",
       "      <td>0.8200</td>\n",
       "      <td>0.3500</td>\n",
       "      <td>0.3765</td>\n",
       "      <td>0.4950</td>\n",
       "    </tr>\n",
       "  </tbody>\n",
       "</table>\n",
       "<p>4177 rows × 8 columns</p>\n",
       "</div>"
      ],
      "text/plain": [
       "      Sex  Length  Diameter  Height  Whole weight  Shucked weight  \\\n",
       "0       1   0.455     0.365   0.095        0.5140          0.2245   \n",
       "1       1   0.350     0.265   0.090        0.2255          0.0995   \n",
       "2       0   0.530     0.420   0.135        0.6770          0.2565   \n",
       "3       1   0.440     0.365   0.125        0.5160          0.2155   \n",
       "4       2   0.330     0.255   0.080        0.2050          0.0895   \n",
       "...   ...     ...       ...     ...           ...             ...   \n",
       "4172    0   0.565     0.450   0.165        0.8870          0.3700   \n",
       "4173    1   0.590     0.440   0.135        0.8200          0.4390   \n",
       "4174    1   0.600     0.475   0.205        0.8200          0.5255   \n",
       "4175    0   0.625     0.485   0.150        0.8200          0.5310   \n",
       "4176    1   0.710     0.555   0.195        0.8200          0.3500   \n",
       "\n",
       "      Viscera weight  Shell weight  \n",
       "0             0.1010        0.1500  \n",
       "1             0.0485        0.0700  \n",
       "2             0.1415        0.2100  \n",
       "3             0.1140        0.1550  \n",
       "4             0.0395        0.0550  \n",
       "...              ...           ...  \n",
       "4172          0.2390        0.2490  \n",
       "4173          0.2145        0.2605  \n",
       "4174          0.2875        0.3080  \n",
       "4175          0.2610        0.2960  \n",
       "4176          0.3765        0.4950  \n",
       "\n",
       "[4177 rows x 8 columns]"
      ]
     },
     "execution_count": 60,
     "metadata": {},
     "output_type": "execute_result"
    }
   ],
   "source": [
    "x=data.drop(columns= ['Rings'])\n",
    "y=data['Rings']\n",
    "x"
   ]
  },
  {
   "cell_type": "code",
   "execution_count": 61,
   "metadata": {},
   "outputs": [
    {
     "data": {
      "text/plain": [
       "0       15\n",
       "1        7\n",
       "2        9\n",
       "3       10\n",
       "4        7\n",
       "        ..\n",
       "4172    11\n",
       "4173    10\n",
       "4174     9\n",
       "4175    10\n",
       "4176    12\n",
       "Name: Rings, Length: 4177, dtype: int64"
      ]
     },
     "execution_count": 61,
     "metadata": {},
     "output_type": "execute_result"
    }
   ],
   "source": [
    "y"
   ]
  },
  {
   "cell_type": "markdown",
   "metadata": {},
   "source": [
    "#### 8.Scale the independent variables"
   ]
  },
  {
   "cell_type": "code",
   "execution_count": 62,
   "metadata": {},
   "outputs": [
    {
     "data": {
      "text/plain": [
       "array([[-0.0105225 , -0.67088921, -0.50179694, ..., -0.61037964,\n",
       "        -0.7328165 , -0.63821689],\n",
       "       [-0.0105225 , -1.61376082, -1.57304487, ..., -1.22513334,\n",
       "        -1.24343929, -1.21298732],\n",
       "       [-1.26630752,  0.00259051,  0.08738942, ..., -0.45300269,\n",
       "        -0.33890749, -0.20713907],\n",
       "       ...,\n",
       "       [-0.0105225 ,  0.63117159,  0.67657577, ...,  0.86994729,\n",
       "         1.08111018,  0.49695471],\n",
       "       [-1.26630752,  0.85566483,  0.78370057, ...,  0.89699645,\n",
       "         0.82336724,  0.41073914],\n",
       "       [-0.0105225 ,  1.61894185,  1.53357412, ...,  0.00683308,\n",
       "         1.94673739,  1.84048058]])"
      ]
     },
     "execution_count": 62,
     "metadata": {},
     "output_type": "execute_result"
    }
   ],
   "source": [
    "from sklearn.preprocessing import scale\n",
    "x = scale(x)\n",
    "x"
   ]
  },
  {
   "cell_type": "markdown",
   "metadata": {},
   "source": [
    "#### 9.Split the data into training and testing"
   ]
  },
  {
   "cell_type": "code",
   "execution_count": 63,
   "metadata": {},
   "outputs": [
    {
     "name": "stdout",
     "output_type": "stream",
     "text": [
      "(3341, 8) (836, 8)\n"
     ]
    }
   ],
   "source": [
    "from sklearn.model_selection import train_test_split\n",
    "x_train, x_test, y_train, y_test = train_test_split(x,y, test_size = 0.2)\n",
    "print(x_train.shape, x_test.shape)"
   ]
  },
  {
   "cell_type": "markdown",
   "metadata": {},
   "source": [
    "#### 10.Build the Model"
   ]
  },
  {
   "cell_type": "code",
   "execution_count": 64,
   "metadata": {},
   "outputs": [],
   "source": [
    "from sklearn.linear_model import LinearRegression\n",
    "MLR=LinearRegression()"
   ]
  },
  {
   "cell_type": "markdown",
   "metadata": {},
   "source": [
    "#### 11.Train the model"
   ]
  },
  {
   "cell_type": "code",
   "execution_count": 65,
   "metadata": {},
   "outputs": [
    {
     "data": {
      "text/plain": [
       "LinearRegression()"
      ]
     },
     "execution_count": 65,
     "metadata": {},
     "output_type": "execute_result"
    }
   ],
   "source": [
    "MLR.fit(x_train,y_train)"
   ]
  },
  {
   "cell_type": "markdown",
   "metadata": {},
   "source": [
    "#### 12.Test the model"
   ]
  },
  {
   "cell_type": "code",
   "execution_count": 66,
   "metadata": {},
   "outputs": [
    {
     "data": {
      "text/plain": [
       "array([ 9.11822978, 11.94312975, 10.28548399, 11.93363639, 10.43560732,\n",
       "       10.82094417,  9.5492842 , 13.610918  , 12.05239899,  6.93077595,\n",
       "       10.52628547, 16.32826428, 13.66370371,  8.27398416,  6.85648944,\n",
       "        8.74187199, 11.12464269,  9.52077651,  7.56331311, 12.22212083,\n",
       "        6.50449768,  9.6770312 ,  6.81950237,  7.36425424, 11.66594866,\n",
       "       11.69358661, 11.09257964, 16.29380698, 10.74217818,  8.35475786,\n",
       "       11.10812891,  7.37862188, 11.67164787,  8.9971445 , 10.47983695,\n",
       "        7.41540849, 11.16698947,  6.39764898,  7.77729502,  8.15641854,\n",
       "       10.04026191, 11.09055823, 11.05820051, 11.11707137, 12.54600576,\n",
       "        7.21121613,  9.02466221,  5.13891817,  9.60867949, 12.27764213,\n",
       "        8.69857121, 10.69235161, 11.58185962,  4.43534166, 13.49454106,\n",
       "       10.22420016, 10.08384404,  8.06807411, 11.56628428, 12.18074552,\n",
       "        7.16384179, 12.54724126, 12.64103418,  9.85063908, 13.06147766,\n",
       "       12.28922736,  6.54079952, 11.62805216,  7.43467239, 13.20429874,\n",
       "       13.4525082 , 13.14669749, 12.22006169, 10.50533931,  7.99952593,\n",
       "       11.66078043, 11.4828383 ,  8.76993096,  8.13924256, 11.71125193,\n",
       "        7.56446568,  7.87063992,  9.28370768, 13.14394446,  9.51207251,\n",
       "        7.72130922,  9.8101116 ,  9.91930426,  7.65687476, 13.72449686,\n",
       "        8.63255651, 13.10427544, 18.73944167,  7.1236452 ,  8.53310347,\n",
       "       10.47395001,  8.83669966, 11.09639033,  9.85658048, 12.79643772,\n",
       "       13.46999682,  7.0626508 ,  9.25684267,  9.42544375, 11.45130059,\n",
       "       14.2854929 ,  3.49924762,  7.54118642, 11.94469119, 12.75803377,\n",
       "        7.11988594,  7.00083822, 10.5169002 , 10.75744973,  6.58716984,\n",
       "        9.34509202, 14.2627697 , 13.45846143,  7.23828702,  8.57597237,\n",
       "       10.84018999, 11.9179442 , 11.42478195, 11.91797453, 10.79097214,\n",
       "        6.77217036, 10.72182085,  9.3319516 ,  7.34948676, 10.20496412,\n",
       "       11.06801977, 10.93675868,  9.18578859, 13.75590601,  3.90481279,\n",
       "        7.16787986, 11.7327834 ,  6.40573007, 11.86012484,  8.91494483,\n",
       "       10.30708131,  7.69179445,  7.56668524,  6.83917908, 10.65440142,\n",
       "       10.05571294,  7.75062776, 10.34629327,  6.82298642, 10.97620423,\n",
       "       13.49381851, 13.61617122, 12.12356515, 10.6837358 , 12.92991841,\n",
       "        6.63287455, 14.60223767,  7.34711563,  6.44650946, 12.1276631 ,\n",
       "        6.56987504,  7.67030506, 11.2155235 , 11.51687665,  6.60953442,\n",
       "       10.38451242,  7.2778438 , 12.08535948, 15.44200626,  7.56157093,\n",
       "        8.11673935,  6.79262588, 12.31909257,  6.29427398, 10.47485851,\n",
       "        8.67438008, 11.03522428, 11.0951263 ,  9.93635814, 11.01863523,\n",
       "        8.43439787, 10.51607889, 10.93220245,  9.52904617, 11.76035329,\n",
       "        6.88590427, 11.16217324,  7.00732169,  8.81397038, 10.7536083 ,\n",
       "       10.27724973, 10.25935701, 11.02832443, 10.83773184,  7.14558537,\n",
       "       11.2319524 ,  8.05736075,  8.76883935,  6.82844676, 12.06749623,\n",
       "        7.08963857, 11.57641685, 13.42614938, 11.50949309,  8.62040875,\n",
       "        8.49930492, 10.7800321 ,  9.49351722,  7.76620199, 12.77206059,\n",
       "       11.98731841, 12.26588129, 15.16370658,  8.0366576 ,  8.88959284,\n",
       "       10.6838305 , 11.04770791, 12.15544448,  7.91211584,  8.10637836,\n",
       "       11.53726974, 10.70491767,  7.86945274, 14.31760432,  9.33702535,\n",
       "       10.41170711,  8.89745065,  8.70943087, 17.1195729 , 13.07773752,\n",
       "        6.67328784, 13.57077744,  9.34839543, 10.73200935,  8.55018861,\n",
       "        7.66218799, 11.04799833, 12.25990817, 11.4073644 , 11.01922958,\n",
       "        9.85651357,  8.85305547,  6.83651873, 10.8504433 ,  8.58996937,\n",
       "        9.10249713, 13.01345423,  8.80804628, 10.01582679,  6.96015215,\n",
       "        9.86962664, 11.8651446 ,  6.08665629, 11.58921981,  9.94811105,\n",
       "       11.24373113,  9.69589688, 10.52829355, 10.23419862, 11.95918628,\n",
       "       10.87254654, 12.16030053,  8.98504898,  8.14379767,  9.12514491,\n",
       "        9.03770572,  7.46612452, 11.42798581,  8.83672357,  9.28790464,\n",
       "        9.57593784,  9.08307288, 11.59192886, 12.45520915,  9.68939244,\n",
       "        9.41927543,  6.90997405,  8.9835362 , 10.40851682,  8.95779681,\n",
       "       13.44969798, 14.84675021,  3.47631172,  9.47741498,  9.45727484,\n",
       "       13.1420812 ,  8.60358198,  6.98945278,  9.56246973, 13.21960501,\n",
       "       10.58032406,  9.43753636,  7.17573598,  8.5101341 , 10.21516592,\n",
       "       10.58924866,  9.64102191,  7.70027789, 10.58958859, 11.45617961,\n",
       "       10.44679278, 10.73197072,  8.24896364, 12.30253718,  6.84089948,\n",
       "        8.84853768, 12.94989125, 12.84687121,  9.4159946 ,  7.12636199,\n",
       "        9.84246692, 11.69090345,  6.74629133,  6.93000289,  9.21928844,\n",
       "       11.5144767 , 12.41459921, 11.25985009, 10.01181499, 11.4268066 ,\n",
       "       10.36349839, 10.09982593, 10.5799133 ,  9.80907208,  7.14005873,\n",
       "       12.94986793,  9.48892434, 10.66748652,  6.92469765,  8.18910564,\n",
       "       11.05982879, 17.87591287, 11.4846222 , 10.13739376,  8.85568672,\n",
       "        6.74441437, 10.94255365, 10.1556098 ,  7.8964031 ,  9.05071019,\n",
       "        9.56297234, 11.34165117, 12.1781401 , 13.13441246, 10.57263534,\n",
       "       11.93828444, 10.61201006,  6.68456419, 10.17495383, 10.95101049,\n",
       "       10.26457709,  7.39175905,  9.42422694,  7.77302037,  6.76813187,\n",
       "       10.85642411, 10.57615902,  6.0368078 , 10.10104284,  7.85454539,\n",
       "        3.56117473, 10.40669588, 11.49534106,  9.80510366,  9.38995416,\n",
       "        6.88060044,  7.16214722, 11.44535596,  9.81449976,  9.60049211,\n",
       "       12.98238142, 10.28745208,  6.720529  ,  8.1785706 ,  8.89625116,\n",
       "       17.2624141 , 12.27215302, 10.58624327,  8.15427746, 12.06562404,\n",
       "        8.57530221, 12.29033521, 11.49312767,  9.20968997, 11.07730799,\n",
       "        9.35742183,  6.37413871,  7.44755863,  3.5584831 , 13.96409736,\n",
       "        7.05830491, 12.21913687, 10.06478382,  8.77801658, 11.77215451,\n",
       "        8.85016323,  6.53797061, 12.27417232, 10.1681283 , 11.11129335,\n",
       "        9.20103604, 11.94383247, 10.84909008,  8.00941959, 10.35566158,\n",
       "        7.50124968,  8.37374527, 12.67416246,  9.17508497,  9.81357096,\n",
       "        9.64417804,  9.80162358, 11.57677724,  6.96369493,  6.46580126,\n",
       "       11.55414664, 10.53605611, 15.51757165,  9.13679239, 11.6564864 ,\n",
       "       10.93850402, 12.06014689, 10.68787397,  7.11529336, 10.65395513,\n",
       "       13.35244522,  9.55168104, 11.5090386 ,  6.41304926,  9.22231772,\n",
       "        7.90918031,  9.9834426 ,  6.96101484,  8.71341378, 12.32154738,\n",
       "       10.10746841,  8.94871286,  9.68392696, 11.14552054, 11.08837122,\n",
       "       12.08320638,  8.86203279, 12.07287897,  9.37494731, 12.22520831,\n",
       "       10.5486783 , 12.44849213,  6.74856649, 10.66592758, 14.91482426,\n",
       "       12.09591196,  6.82179289, 10.62846496,  7.50363325,  6.29349573,\n",
       "       10.79004008, 12.21229011,  8.86064357, 12.01753441,  7.45739268,\n",
       "       10.29711849,  9.26278427,  7.13706371,  6.77522183,  7.72244974,\n",
       "       11.17407887, 12.17366193, 10.888047  , 10.32449784, 11.30027298,\n",
       "        6.83419482, 12.08700703,  9.59881649,  6.70352992,  8.25689805,\n",
       "       12.3060341 , 11.81183024,  9.80164542,  6.54480703, 11.21221798,\n",
       "        8.21317265, 11.39792057,  9.33232249, 10.68544898, 11.35715705,\n",
       "       10.85019157, 10.93703708,  8.35794649,  6.32674022,  3.49548745,\n",
       "        9.55200664, 11.17676388,  6.72337383,  9.98110029, 12.92573054,\n",
       "       11.85344557,  8.60478496,  8.79013332,  7.45598043,  6.22657813,\n",
       "       11.64623242, 10.53482783,  7.6032148 ,  8.20840085, 10.2556528 ,\n",
       "       10.43533071, 13.02615176,  8.18964137, 14.68483286, 13.10006369,\n",
       "       10.50470477,  7.69334027, 10.89116646,  7.44743757, 10.22857245,\n",
       "        7.59358399,  9.86326688, 10.0536669 , 13.35975638,  8.06099072,\n",
       "       10.65022107,  6.71362783, 12.63609326,  8.06431089, 10.50441826,\n",
       "        6.58540765,  7.07461935,  6.96576632, 10.68053286,  6.27599939,\n",
       "        7.49355699, 10.22603907,  9.8924346 , 12.7383675 , 10.66899303,\n",
       "       11.54733395,  7.23735645, 12.78695048, 11.02510444,  9.28665406,\n",
       "       12.10617266,  9.2126387 ,  9.06067915, 11.87416068,  9.0776285 ,\n",
       "        7.88546559, 12.21797993,  6.88843303,  8.80084977,  8.8360414 ,\n",
       "       11.41593337, 10.82341406, 12.55868602, 11.48442894, 11.923438  ,\n",
       "        8.59841143,  7.71520133, 11.11135135,  9.79638637, 10.34689441,\n",
       "       10.03127758, 10.21270161,  8.28114644,  7.47089878, 13.50258353,\n",
       "        9.51301036,  6.54215589,  7.00898197, 10.04341684, 11.44612417,\n",
       "        9.28747284,  6.42667991, 10.87593504,  9.73031568,  9.23417147,\n",
       "        7.63071009, 12.0565568 , 10.63743866, 10.22083715,  9.35914922,\n",
       "        7.64214031,  6.72045638,  9.88254635, 10.4551828 ,  9.60851081,\n",
       "       12.22697122,  5.94892435,  7.77614762,  7.18335435,  7.46890188,\n",
       "       10.70615709,  6.66914936, 10.62453449, 11.67305985, 12.82303058,\n",
       "        8.38584279,  9.96095489,  7.20488219, 10.40175931, 11.34455249,\n",
       "        7.48327643, 11.24312494, 10.78544309,  6.67212476,  9.10905381,\n",
       "       11.39746969, 10.8303295 , 11.31467995, 12.22180568, 10.72979233,\n",
       "       12.66597997,  8.11722814,  6.75721334,  7.11098683, 12.21964317,\n",
       "        9.18275592,  6.46464967,  9.77902046, 10.83789345, 10.26943618,\n",
       "       10.73513207, 11.79778433,  9.6890127 , 12.00549601, 10.7166041 ,\n",
       "        8.48568915,  7.29722042, 14.77503257, 10.22731936,  7.78823968,\n",
       "       12.06968621, 10.25576931, 12.40655311, 13.79991075,  9.22229347,\n",
       "       13.70969094,  6.96926404, 10.74880512, 12.17044765, 12.34294397,\n",
       "       11.1073007 , 11.29694755, 14.2630096 ,  9.99948552, 12.44403987,\n",
       "        8.84664629, 10.92727569,  7.71993943, 11.86142851,  8.12056244,\n",
       "        9.28062009,  9.96188865,  6.92189879, 12.39686234,  8.68258409,\n",
       "        9.38667883,  7.38848246,  6.25524467,  7.88550164, 10.9595014 ,\n",
       "        8.16443652,  9.04445622, 14.25501449, 13.00122709, 10.49887264,\n",
       "        7.45439996, 11.60980286, 10.40585763,  8.90090372,  7.75612597,\n",
       "       11.53431188, 10.68293762,  6.5145226 , 10.78363843,  6.39840841,\n",
       "        7.85297508, 10.55660512,  9.35205552, 12.18526418,  7.9861729 ,\n",
       "        9.19638141, 12.29357471, 10.50374068,  7.14113106,  7.59218807,\n",
       "        9.32806697,  6.77036628, 11.34444985, 13.04157558, 10.33795151,\n",
       "        6.58953155, 10.91092362,  9.4631414 ,  9.58694917, 14.4310072 ,\n",
       "       11.26369808, 12.26290631,  6.76139276,  8.48937461, 10.28380639,\n",
       "        8.72862078,  7.98159284, 11.49792599,  8.84004344, 11.77826063,\n",
       "       11.56568106,  9.06132084,  7.07536124, 11.06675195, 11.31528974,\n",
       "       14.51849149,  9.37166222,  9.62723293,  8.25673579, 10.39124342,\n",
       "       11.02753387,  8.94856644,  9.20151834,  9.31506549, 12.80831588,\n",
       "        9.73270208,  9.73755095, 10.12758427,  8.42005105, 11.74925153,\n",
       "       16.96912778,  8.31058995,  9.65413569, 11.67636432, 11.05592787,\n",
       "        9.27357882, 11.29560977,  6.52489882, 13.39441077,  6.36497926,\n",
       "        9.48971239, 11.8581333 , 10.78724538,  7.52981608,  9.25014692,\n",
       "        9.11915811,  6.56580637, 11.47325109,  9.4947754 , 10.64907158,\n",
       "        7.19177128, 12.25896101, 11.81536818, 10.7476046 , 11.18385059,\n",
       "       10.73740682, 11.11329235, 10.60997983, 10.37569602, 10.44849412,\n",
       "        7.75358558,  3.73507289, 10.09521164,  6.19529121,  8.2221793 ,\n",
       "       10.25580223,  5.11166547,  8.93997487, 10.59688732, 12.5602893 ,\n",
       "        9.16132533,  8.02085209,  9.78569217, 10.35082099, 10.99338368,\n",
       "        3.44118555, 11.36700512, 10.68542255, 11.99669637, 10.8064404 ,\n",
       "        8.71137183,  8.29523535, 14.00275441,  9.7390198 , 10.66366751,\n",
       "        7.0609775 , 11.39044803,  9.47562564,  7.79240463, 10.45680663,\n",
       "        7.67029   , 11.41374494, 13.38757049,  7.77296157,  7.28498847,\n",
       "        6.70717428,  7.65536381, 10.94004482,  9.86512332, 12.39256888,\n",
       "       10.13297234, 13.22270947,  9.29441485,  7.81240036,  6.86783598,\n",
       "        7.82860018, 11.12371686, 10.11180565,  8.57631155, 10.15381177,\n",
       "        8.02106492,  9.46910182, 12.11502539,  6.98579598, 10.08585229,\n",
       "        6.41138749, 12.39629399, 10.57522155, 10.48824985,  9.40116407,\n",
       "        9.85592657, 15.82469178, 14.07117507,  9.91658581, 11.77478046,\n",
       "       11.35810122, 10.83692255,  6.36426197, 10.02265334,  9.96725588,\n",
       "       10.86262754,  7.58523919, 11.07109309, 11.78177899, 11.65693704,\n",
       "        9.24398423,  7.88965104,  9.16997448, 10.97673823,  7.81793396,\n",
       "        9.87046141])"
      ]
     },
     "execution_count": 66,
     "metadata": {},
     "output_type": "execute_result"
    }
   ],
   "source": [
    "y_pred=MLR.predict(x_test)\n",
    "y_pred"
   ]
  },
  {
   "cell_type": "code",
   "execution_count": 67,
   "metadata": {},
   "outputs": [
    {
     "data": {
      "text/plain": [
       "array([ 7.85952358, 17.38634482,  7.6210452 , ..., 13.10531419,\n",
       "        7.24819025,  6.99996024])"
      ]
     },
     "execution_count": 67,
     "metadata": {},
     "output_type": "execute_result"
    }
   ],
   "source": [
    "pred=MLR.predict(x_train)\n",
    "pred"
   ]
  },
  {
   "cell_type": "code",
   "execution_count": 68,
   "metadata": {},
   "outputs": [
    {
     "data": {
      "text/plain": [
       "0.4744869404358666"
      ]
     },
     "execution_count": 68,
     "metadata": {},
     "output_type": "execute_result"
    }
   ],
   "source": [
    "from sklearn.metrics import r2_score\n",
    "accuracy=r2_score(y_test,y_pred)\n",
    "accuracy"
   ]
  },
  {
   "cell_type": "code",
   "execution_count": 69,
   "metadata": {},
   "outputs": [
    {
     "data": {
      "text/plain": [
       "array([9.84813698])"
      ]
     },
     "execution_count": 69,
     "metadata": {},
     "output_type": "execute_result"
    }
   ],
   "source": [
    "MLR.predict([[1,0.455,0.365,0.095,0.5140,0.2245,0.1010,0.150]])"
   ]
  },
  {
   "cell_type": "markdown",
   "metadata": {},
   "source": [
    "#### 13.Measure the performance using Metrics"
   ]
  },
  {
   "cell_type": "code",
   "execution_count": 70,
   "metadata": {},
   "outputs": [
    {
     "data": {
      "text/plain": [
       "2.4039958842448366"
      ]
     },
     "execution_count": 70,
     "metadata": {},
     "output_type": "execute_result"
    }
   ],
   "source": [
    "from sklearn import metrics\n",
    "from sklearn.metrics import mean_squared_error\n",
    "np.sqrt(mean_squared_error(y_test,y_pred))"
   ]
  },
  {
   "cell_type": "markdown",
   "metadata": {},
   "source": [
    "#### LASSO"
   ]
  },
  {
   "cell_type": "code",
   "execution_count": 71,
   "metadata": {},
   "outputs": [
    {
     "data": {
      "text/plain": [
       "array([-0.        ,  0.        ,  0.        ,  0.12441338,  0.09092411,\n",
       "        0.        ,  0.        ,  1.27358434])"
      ]
     },
     "execution_count": 71,
     "metadata": {},
     "output_type": "execute_result"
    }
   ],
   "source": [
    "from sklearn.linear_model import Lasso, Ridge\n",
    "#intialising model\n",
    "lso=Lasso(alpha=0.01,normalize=True)\n",
    "#fit the model\n",
    "lso.fit(x_train,y_train)\n",
    "Lasso(alpha=0.01, normalize=True)\n",
    "#prediction on test data\n",
    "lso_pred=lso.predict(x_test)\n",
    "#coef\n",
    "coef=lso.coef_\n",
    "coef"
   ]
  },
  {
   "cell_type": "code",
   "execution_count": 72,
   "metadata": {},
   "outputs": [
    {
     "data": {
      "text/plain": [
       "0.33784388524651565"
      ]
     },
     "execution_count": 72,
     "metadata": {},
     "output_type": "execute_result"
    }
   ],
   "source": [
    "from sklearn import metrics\n",
    "from sklearn.metrics import mean_squared_error\n",
    "metrics.r2_score(y_test,lso_pred)"
   ]
  },
  {
   "cell_type": "code",
   "execution_count": 73,
   "metadata": {},
   "outputs": [
    {
     "data": {
      "text/plain": [
       "2.6984983706814787"
      ]
     },
     "execution_count": 73,
     "metadata": {},
     "output_type": "execute_result"
    }
   ],
   "source": [
    "np.sqrt(mean_squared_error(y_test,lso_pred))"
   ]
  },
  {
   "cell_type": "markdown",
   "metadata": {},
   "source": [
    "#### RIDGE"
   ]
  },
  {
   "cell_type": "code",
   "execution_count": 74,
   "metadata": {},
   "outputs": [
    {
     "data": {
      "text/plain": [
       "array([ 9.09096554, 11.89713391, 10.31564807, 11.84266084, 10.44351682,\n",
       "       10.88393826,  9.59175193, 13.39797425, 12.05405001,  6.95840106,\n",
       "       10.41604348, 16.15381336, 13.53259686,  8.27283412,  6.81237682,\n",
       "        8.72729498, 11.27995752,  9.54319705,  7.62483174, 12.18891078,\n",
       "        6.44553084,  9.76803067,  6.81431599,  7.33500634, 11.65087378,\n",
       "       11.69386041, 11.06921443, 16.14879738, 10.76932625,  8.3514077 ,\n",
       "       11.14648524,  7.38406175, 11.57691376,  8.98673961, 10.49169553,\n",
       "        7.4694795 , 11.09169223,  6.35031542,  7.78084585,  8.16559077,\n",
       "        9.98905589, 11.14105385, 11.05013214, 11.01142444, 12.4001073 ,\n",
       "        7.25208834,  9.02335804,  5.41725902,  9.60310175, 12.13868916,\n",
       "        8.74700699, 10.82611822, 11.50151972,  4.67143201, 13.31487985,\n",
       "       10.17945123, 10.10676324,  8.09585266, 11.53279931, 12.13572505,\n",
       "        7.16238769, 12.46837262, 12.5855687 ,  9.80576524, 12.88959412,\n",
       "       12.29095759,  6.52082534, 11.69901595,  7.42499423, 13.14453073,\n",
       "       13.51949011, 13.0436273 , 12.19718039, 10.57304356,  8.04755456,\n",
       "       11.69199994, 11.48790694,  8.77195379,  8.19328592, 11.75773778,\n",
       "        7.51948112,  7.92925773,  9.32154538, 13.14454558,  9.57194894,\n",
       "        7.68823117,  9.83256877,  9.96522568,  7.62084226, 13.53375478,\n",
       "        8.63527422, 13.07502664, 18.35039223,  7.14348707,  8.57008188,\n",
       "       10.54921144,  8.83311441, 11.11250772,  9.88540423, 12.58801371,\n",
       "       13.36860884,  7.10346832,  9.37529998,  9.41167234, 11.40206943,\n",
       "       14.24050759,  3.89710483,  7.54707179, 12.00217565, 12.59387058,\n",
       "        7.10248758,  7.01630377, 10.4829389 , 10.71769364,  6.53386545,\n",
       "        9.34387247, 14.17934895, 13.34512946,  7.24025658,  8.60106892,\n",
       "       10.81958963, 11.85168109, 11.41129186, 11.90966258, 10.80479628,\n",
       "        6.732068  , 10.72962174,  9.41177788,  7.38273768, 10.15401575,\n",
       "       11.09429204, 10.96185763,  9.16059673, 13.60117922,  4.10138594,\n",
       "        7.18270266, 11.65379407,  6.35592808, 11.82218334,  9.10985513,\n",
       "       10.37072693,  7.70859719,  7.61577535,  6.8547082 , 10.67055299,\n",
       "       10.19247158,  7.73357551, 10.39789294,  6.75265902, 11.01934104,\n",
       "       13.42977654, 13.57554462, 12.10472041, 10.67542048, 12.82316864,\n",
       "        6.6229205 , 14.430555  ,  7.350243  ,  6.45643957, 12.02970863,\n",
       "        6.59807765,  7.72314204, 11.26255335, 11.49549878,  6.53234039,\n",
       "       10.46194221,  7.3082056 , 12.03137405, 15.23196764,  7.55395487,\n",
       "        8.05565842,  6.75796341, 12.18292179,  6.22771879, 10.5242608 ,\n",
       "        8.66667382, 11.00138426, 11.0841845 , 10.04950239, 10.91749719,\n",
       "        8.44113665, 10.52174197, 10.93197665,  9.54062747, 11.78228875,\n",
       "        6.88714967, 11.11601099,  7.02901796,  8.90261408, 10.75807884,\n",
       "       10.3255072 , 10.32899986, 11.07332354, 10.87610189,  7.18654336,\n",
       "       11.25800535,  8.09303878,  8.82133943,  6.73042955, 12.05885883,\n",
       "        7.14642521, 11.66361534, 13.37657632, 11.51820795,  8.67104792,\n",
       "        8.53884066, 10.84878626,  9.52912483,  7.77207805, 12.69490127,\n",
       "       11.8349989 , 12.18698988, 15.01755662,  8.07008574,  8.90721826,\n",
       "       10.68145907, 11.05501853, 12.15355635,  7.96692164,  8.09524314,\n",
       "       11.48008519, 10.69348838,  7.87524778, 14.1975831 ,  9.30919735,\n",
       "       10.43399397,  8.92624663,  8.71314808, 16.74897433, 13.00462722,\n",
       "        6.74575439, 13.4659437 ,  9.34615819, 10.68901675,  8.56915274,\n",
       "        7.64579677, 11.0481253 , 12.30967153, 11.46776708, 10.99611712,\n",
       "        9.90911086,  8.84678188,  6.80605882, 10.92962309,  8.63150682,\n",
       "        9.06835342, 12.96701136,  8.79991296, 10.02392739,  6.91144658,\n",
       "        9.83953037, 11.79679539,  6.07679068, 11.56152273,  9.92713242,\n",
       "       11.16342386,  9.70590679, 10.61152668, 10.26469571, 11.87296127,\n",
       "       10.86558804, 12.17956133,  9.00406269,  8.11566152,  9.24702952,\n",
       "        9.03988125,  7.4914424 , 11.35152395,  8.82175891,  9.32087862,\n",
       "        9.58111625,  9.05637546, 11.55330443, 12.35032982,  9.74741139,\n",
       "        9.44504232,  6.88242229,  8.98578806, 10.48295642,  8.98422337,\n",
       "       13.41725736, 14.74415822,  3.66455272,  9.42374622,  9.44572545,\n",
       "       13.11957864,  8.60021176,  7.00170787,  9.54297634, 13.18919232,\n",
       "       10.67485239,  9.50046134,  7.16500681,  8.54641498, 10.29870586,\n",
       "       10.52723283,  9.64522045,  7.7184459 , 10.64381431, 11.36771346,\n",
       "       10.41462229, 10.7624233 ,  8.32883505, 12.21831501,  6.80672692,\n",
       "        8.82414862, 12.86904768, 12.80195142,  9.4011923 ,  7.12163395,\n",
       "        9.80087932, 11.59072988,  6.79271419,  6.87491698,  9.15910594,\n",
       "       11.51341814, 12.46998573, 11.40809218, 10.05103812, 11.44785111,\n",
       "       10.31166967, 10.11188171, 10.65574798,  9.7159785 ,  7.12560451,\n",
       "       12.92750724,  9.54859732, 10.59722032,  6.95541828,  8.20766346,\n",
       "       11.10699752, 17.52862378, 11.46688818, 10.13821784,  8.85035122,\n",
       "        6.70539266, 10.98321567, 10.11047961,  7.95036966,  9.03939713,\n",
       "        9.69775829, 11.30487982, 12.23535123, 13.02346523, 10.56851399,\n",
       "       11.88585126, 10.57091289,  6.67180117, 10.14458278, 11.08211739,\n",
       "       10.34313275,  7.41714795,  9.46983381,  7.80065241,  6.81282471,\n",
       "       10.87416969, 10.51232494,  5.95852358, 10.09250383,  7.83636442,\n",
       "        3.75413796, 10.43105835, 11.54479586,  9.78189732,  9.40428591,\n",
       "        6.89005352,  7.13629307, 11.40683598,  9.99359835,  9.53873652,\n",
       "       12.82829448, 10.22532091,  6.7041318 ,  8.16849261,  8.88753508,\n",
       "       17.03232966, 12.21404318, 10.74126729,  8.18373755, 11.93683562,\n",
       "        8.54103171, 12.14834233, 11.51412376,  9.25577944, 11.15277342,\n",
       "        9.52811897,  6.34384247,  7.44449069,  3.75143299, 13.8373352 ,\n",
       "        7.09008712, 12.23160991, 10.12763845,  8.79562231, 11.82209822,\n",
       "        8.82698082,  6.53242066, 12.25002351, 10.0969181 , 11.17380309,\n",
       "        9.24082669, 11.98712725, 10.88617816,  7.98825101, 10.38515629,\n",
       "        7.55872514,  8.42949287, 12.67803257,  9.21187386,  9.82640746,\n",
       "        9.71518516,  9.8113764 , 11.54955267,  6.7488245 ,  6.4627525 ,\n",
       "       11.56064725, 10.56124847, 15.40989686,  9.24439014, 11.7101752 ,\n",
       "       10.97433981, 11.97301452, 10.75209823,  7.14627649, 10.64643593,\n",
       "       13.19381471,  9.55972444, 11.47325699,  6.39449136,  9.22525606,\n",
       "        7.94740027,  9.97500076,  6.9617419 ,  8.68228887, 12.24881957,\n",
       "       10.09783836,  8.98672022,  9.67849371, 11.16505087, 11.12778969,\n",
       "       12.08350795,  8.89442566, 11.9764402 ,  9.36515492, 12.1974573 ,\n",
       "       10.57082898, 12.49531741,  6.78208688, 10.77478199, 14.74142939,\n",
       "       12.11849446,  6.8235267 , 10.69032595,  7.53771776,  6.23305196,\n",
       "       10.80901112, 12.19653703,  8.8823582 , 11.98531285,  7.4426562 ,\n",
       "       10.26346574,  9.25726801,  7.13787932,  6.69481019,  7.74206482,\n",
       "       11.09795664, 12.13547701, 10.84522861, 10.34216698, 11.2778779 ,\n",
       "        6.79559621, 12.09920128,  9.58220553,  6.67091981,  8.32424587,\n",
       "       12.26844402, 11.75037981,  9.77082682,  6.53864424, 11.17073171,\n",
       "        8.32587828, 11.30207406,  9.37159772, 10.72665998, 11.26897622,\n",
       "       10.913656  , 10.87308552,  8.35901293,  6.24964937,  3.66863317,\n",
       "        9.53128528, 11.10676021,  6.74406225,  9.96572657, 12.90171383,\n",
       "       11.88576519,  8.63423047,  8.76837907,  7.45183899,  6.17549527,\n",
       "       11.64229436, 10.47571366,  7.6390566 ,  8.19431707, 10.42561897,\n",
       "       10.48801262, 12.95497953,  8.18165113, 14.66885023, 12.98218829,\n",
       "       10.54205083,  7.69595769, 10.79819   ,  7.42751073, 10.32887946,\n",
       "        7.63862033,  9.95399636, 10.03692849, 13.19181814,  8.09175564,\n",
       "       10.70958418,  6.73404513, 12.66795159,  8.14656906, 10.60699683,\n",
       "        6.59832693,  7.09540905,  6.9889261 , 10.77743259,  6.1896576 ,\n",
       "        7.47709378, 10.26982504,  9.99094996, 12.58012804, 10.68715496,\n",
       "       11.63347699,  7.25362045, 12.73473425, 10.97531889,  9.34864013,\n",
       "       11.96831371,  9.30837268,  9.19488338, 11.96122703,  9.257673  ,\n",
       "        7.89942874, 12.14899137,  6.86864742,  8.7894222 ,  8.83082479,\n",
       "       11.37700326, 10.86493323, 12.60824421, 11.50178303, 11.96502792,\n",
       "        8.6057617 ,  7.73844928, 11.09049361,  9.85659371, 10.45389687,\n",
       "       10.13483015, 10.17517003,  8.47367244,  7.43105598, 13.43107396,\n",
       "        9.53746529,  6.47611385,  7.04744389,  9.99435236, 11.3445218 ,\n",
       "        9.2674892 ,  6.38800248, 10.87949091,  9.73043267,  9.27703757,\n",
       "        7.66093431, 11.99493403, 10.77997573, 10.22295729,  9.54101662,\n",
       "        7.63734947,  6.77018594,  9.88471496, 10.45967394,  9.69220518,\n",
       "       12.20755318,  6.07941343,  7.79452493,  7.17957901,  7.47433018,\n",
       "       10.69989664,  6.6186895 , 10.63402786, 11.68075961, 12.71311852,\n",
       "        8.58638626,  9.94996028,  7.23520808, 10.44511498, 11.31467818,\n",
       "        7.50204871, 11.17341062, 10.83646352,  6.68817156,  9.11369016,\n",
       "       11.39690655, 10.74278883, 11.21748379, 12.12423617, 10.67005023,\n",
       "       12.63113561,  8.15444111,  6.73267668,  7.16767382, 12.12908716,\n",
       "        9.23708351,  6.42241637,  9.68861482, 10.81489399, 10.37080387,\n",
       "       10.80880174, 11.74161549,  9.65191792, 12.06103683, 10.62661912,\n",
       "        8.37002078,  7.32082531, 14.64914704, 10.3235339 ,  7.72534018,\n",
       "       11.91608298, 10.25759247, 12.40461503, 13.66176442,  9.30802359,\n",
       "       13.6327806 ,  6.94328465, 10.78972458, 12.21500984, 12.20946714,\n",
       "       11.02271736, 11.21573446, 14.18468849, 10.01799491, 12.42043282,\n",
       "        8.82199473, 10.88493705,  7.72232427, 11.78815382,  8.12581374,\n",
       "        9.38379181, 10.05871828,  6.9344078 , 12.33966946,  8.7007055 ,\n",
       "        9.40494788,  7.42573025,  6.20615012,  7.87441152, 10.99326155,\n",
       "        8.18165398,  9.09501817, 13.98143027, 13.01530945, 10.50763073,\n",
       "        7.45316778, 11.47850383, 10.42478123,  8.98222768,  7.74219689,\n",
       "       11.59102517, 10.71498607,  6.54221561, 10.83254032,  6.33953884,\n",
       "        7.91136852, 10.51797733,  9.44187129, 12.23125036,  8.27500748,\n",
       "        9.18269305, 12.21468759, 10.53378298,  7.09199381,  7.58929342,\n",
       "        9.33076515,  6.73228612, 11.36632012, 12.99252213, 10.37485954,\n",
       "        6.62513546, 11.01105407,  9.41079534,  9.64307279, 14.31752173,\n",
       "       11.151719  , 12.18486504,  6.70036504,  8.5411945 , 10.2487854 ,\n",
       "        8.77615263,  7.91945747, 11.47840862,  8.84807063, 11.74624135,\n",
       "       11.57258033,  9.02292956,  7.11938339, 10.96618589, 11.3357425 ,\n",
       "       14.38533428,  9.39095173,  9.7112312 ,  8.23204411, 10.39201062,\n",
       "       11.02467278,  8.94673157,  9.43379416,  9.41837675, 12.78501055,\n",
       "        9.72133066,  9.73613678, 10.10760644,  8.43951994, 11.77449993,\n",
       "       16.71085163,  8.28852391,  9.73506066, 11.77364898, 11.06310919,\n",
       "        9.31523278, 11.34769766,  6.5444706 , 13.32918976,  6.30563435,\n",
       "        9.55053877, 11.79803505, 10.79724396,  7.52324838,  9.27323874,\n",
       "        9.11172401,  6.58986403, 11.4577162 ,  9.50294641, 10.66952668,\n",
       "        7.1718865 , 12.3536301 , 11.76248541, 10.72351296, 11.10475108,\n",
       "       10.74455896, 11.18342522, 10.62087769, 10.41028558, 10.44222156,\n",
       "        7.76929555,  3.93597835, 10.1063608 ,  6.15928243,  8.26195997,\n",
       "       10.19791381,  5.39217833,  9.07405146, 10.55209075, 12.53364677,\n",
       "        9.19170346,  8.0316964 ,  9.79948638, 10.36854788, 11.04585152,\n",
       "        3.63178226, 11.33722448, 10.69139857, 11.96019386, 10.77486168,\n",
       "        8.86700958,  8.33350155, 13.88543881,  9.74302848, 10.70565768,\n",
       "        7.01818929, 11.28441552,  9.48851081,  7.76124758, 10.46094591,\n",
       "        7.66177135, 11.28755709, 13.23317148,  7.76973194,  7.28371971,\n",
       "        6.71565987,  7.66768384, 10.9776418 ,  9.839581  , 12.41517585,\n",
       "       10.16898482, 13.15964589,  9.28488433,  7.78972643,  6.83697797,\n",
       "        7.80614516, 11.02629374, 10.11425876,  8.55138027, 10.11767225,\n",
       "        7.99032982,  9.46573141, 12.05477131,  6.93021056, 10.1378816 ,\n",
       "        6.36817752, 12.2841745 , 10.54814296, 10.50417958,  9.32537608,\n",
       "        9.89559392, 15.56223311, 13.95445616, 10.03949672, 11.78130817,\n",
       "       11.27034092, 10.90230186,  6.3922915 , 10.14993659,  9.93549199,\n",
       "       10.81531817,  7.59089833, 11.0433128 , 11.6994435 , 11.56930763,\n",
       "        9.24469471,  7.93854841,  9.19679144, 10.90984898,  7.81471946,\n",
       "        9.84827391])"
      ]
     },
     "execution_count": 74,
     "metadata": {},
     "output_type": "execute_result"
    }
   ],
   "source": [
    "#initialising model\n",
    "rg=Ridge(alpha=0.01,normalize=True)\n",
    "#fit the model\n",
    "rg.fit(x_train,y_train)\n",
    "Ridge(alpha=0.01, normalize=True)\n",
    "#prediction\n",
    "rg_pred=rg.predict(x_test)\n",
    "rg_pred"
   ]
  },
  {
   "cell_type": "code",
   "execution_count": 75,
   "metadata": {},
   "outputs": [
    {
     "data": {
      "text/plain": [
       "array([-0.33378109, -0.87186367,  0.0225911 ,  0.67757842,  1.13392903,\n",
       "       -1.43888165, -0.04757087,  2.33224127])"
      ]
     },
     "execution_count": 75,
     "metadata": {},
     "output_type": "execute_result"
    }
   ],
   "source": [
    "rg.coef_"
   ]
  },
  {
   "cell_type": "code",
   "execution_count": 76,
   "metadata": {},
   "outputs": [
    {
     "data": {
      "text/plain": [
       "0.4720006227095156"
      ]
     },
     "execution_count": 76,
     "metadata": {},
     "output_type": "execute_result"
    }
   ],
   "source": [
    "metrics.r2_score(y_test,rg_pred)"
   ]
  },
  {
   "cell_type": "code",
   "execution_count": 77,
   "metadata": {},
   "outputs": [
    {
     "data": {
      "text/plain": [
       "2.409676089909529"
      ]
     },
     "execution_count": 77,
     "metadata": {},
     "output_type": "execute_result"
    }
   ],
   "source": [
    "np.sqrt(mean_squared_error(y_test,rg_pred))"
   ]
  },
  {
   "cell_type": "code",
   "execution_count": null,
   "metadata": {},
   "outputs": [],
   "source": []
  }
 ],
 "metadata": {
  "kernelspec": {
   "display_name": "Python 3",
   "language": "python",
   "name": "python3"
  },
  "language_info": {
   "codemirror_mode": {
    "name": "ipython",
    "version": 3
   },
   "file_extension": ".py",
   "mimetype": "text/x-python",
   "name": "python",
   "nbconvert_exporter": "python",
   "pygments_lexer": "ipython3",
   "version": "3.8.5"
  }
 },
 "nbformat": 4,
 "nbformat_minor": 4
}
